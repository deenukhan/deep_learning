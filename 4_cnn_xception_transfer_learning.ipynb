{
  "nbformat": 4,
  "nbformat_minor": 0,
  "metadata": {
    "colab": {
      "name": "4. cnn_xception_transfer_learning.ipynb",
      "provenance": [],
      "authorship_tag": "ABX9TyMeemdkwlKjAeQ7Hfi8oPz4",
      "include_colab_link": true
    },
    "kernelspec": {
      "name": "python3",
      "display_name": "Python 3"
    },
    "language_info": {
      "name": "python"
    },
    "accelerator": "GPU",
    "widgets": {
      "application/vnd.jupyter.widget-state+json": {
        "8b4b7b92b36747e6ba4f10a78ea8909b": {
          "model_module": "@jupyter-widgets/controls",
          "model_name": "HBoxModel",
          "state": {
            "_view_name": "HBoxView",
            "_dom_classes": [],
            "_model_name": "HBoxModel",
            "_view_module": "@jupyter-widgets/controls",
            "_model_module_version": "1.5.0",
            "_view_count": null,
            "_view_module_version": "1.5.0",
            "box_style": "",
            "layout": "IPY_MODEL_ab27ecfd72de41359f6e00390af99e62",
            "_model_module": "@jupyter-widgets/controls",
            "children": [
              "IPY_MODEL_45cf3b97c0d84222a2c0b80450f2c5fc",
              "IPY_MODEL_2c35b55b234e4065b6a490a1019dae29"
            ]
          }
        },
        "ab27ecfd72de41359f6e00390af99e62": {
          "model_module": "@jupyter-widgets/base",
          "model_name": "LayoutModel",
          "state": {
            "_view_name": "LayoutView",
            "grid_template_rows": null,
            "right": null,
            "justify_content": null,
            "_view_module": "@jupyter-widgets/base",
            "overflow": null,
            "_model_module_version": "1.2.0",
            "_view_count": null,
            "flex_flow": null,
            "width": null,
            "min_width": null,
            "border": null,
            "align_items": null,
            "bottom": null,
            "_model_module": "@jupyter-widgets/base",
            "top": null,
            "grid_column": null,
            "overflow_y": null,
            "overflow_x": null,
            "grid_auto_flow": null,
            "grid_area": null,
            "grid_template_columns": null,
            "flex": null,
            "_model_name": "LayoutModel",
            "justify_items": null,
            "grid_row": null,
            "max_height": null,
            "align_content": null,
            "visibility": null,
            "align_self": null,
            "height": null,
            "min_height": null,
            "padding": null,
            "grid_auto_rows": null,
            "grid_gap": null,
            "max_width": null,
            "order": null,
            "_view_module_version": "1.2.0",
            "grid_template_areas": null,
            "object_position": null,
            "object_fit": null,
            "grid_auto_columns": null,
            "margin": null,
            "display": null,
            "left": null
          }
        },
        "45cf3b97c0d84222a2c0b80450f2c5fc": {
          "model_module": "@jupyter-widgets/controls",
          "model_name": "FloatProgressModel",
          "state": {
            "_view_name": "ProgressView",
            "style": "IPY_MODEL_054b9b60b4594719ab5f761acc070c5b",
            "_dom_classes": [],
            "description": "Dl Completed...: 100%",
            "_model_name": "FloatProgressModel",
            "bar_style": "success",
            "max": 5,
            "_view_module": "@jupyter-widgets/controls",
            "_model_module_version": "1.5.0",
            "value": 5,
            "_view_count": null,
            "_view_module_version": "1.5.0",
            "orientation": "horizontal",
            "min": 0,
            "description_tooltip": null,
            "_model_module": "@jupyter-widgets/controls",
            "layout": "IPY_MODEL_9171d5b6e5d1425e8c4f59336bfe1ea9"
          }
        },
        "2c35b55b234e4065b6a490a1019dae29": {
          "model_module": "@jupyter-widgets/controls",
          "model_name": "HTMLModel",
          "state": {
            "_view_name": "HTMLView",
            "style": "IPY_MODEL_3aeb514487104edca036d1eb659d3766",
            "_dom_classes": [],
            "description": "",
            "_model_name": "HTMLModel",
            "placeholder": "​",
            "_view_module": "@jupyter-widgets/controls",
            "_model_module_version": "1.5.0",
            "value": " 5/5 [00:10&lt;00:00,  2.14s/ file]",
            "_view_count": null,
            "_view_module_version": "1.5.0",
            "description_tooltip": null,
            "_model_module": "@jupyter-widgets/controls",
            "layout": "IPY_MODEL_aa7132f56487496fa8ba6086a17c6de0"
          }
        },
        "054b9b60b4594719ab5f761acc070c5b": {
          "model_module": "@jupyter-widgets/controls",
          "model_name": "ProgressStyleModel",
          "state": {
            "_view_name": "StyleView",
            "_model_name": "ProgressStyleModel",
            "description_width": "initial",
            "_view_module": "@jupyter-widgets/base",
            "_model_module_version": "1.5.0",
            "_view_count": null,
            "_view_module_version": "1.2.0",
            "bar_color": null,
            "_model_module": "@jupyter-widgets/controls"
          }
        },
        "9171d5b6e5d1425e8c4f59336bfe1ea9": {
          "model_module": "@jupyter-widgets/base",
          "model_name": "LayoutModel",
          "state": {
            "_view_name": "LayoutView",
            "grid_template_rows": null,
            "right": null,
            "justify_content": null,
            "_view_module": "@jupyter-widgets/base",
            "overflow": null,
            "_model_module_version": "1.2.0",
            "_view_count": null,
            "flex_flow": null,
            "width": null,
            "min_width": null,
            "border": null,
            "align_items": null,
            "bottom": null,
            "_model_module": "@jupyter-widgets/base",
            "top": null,
            "grid_column": null,
            "overflow_y": null,
            "overflow_x": null,
            "grid_auto_flow": null,
            "grid_area": null,
            "grid_template_columns": null,
            "flex": null,
            "_model_name": "LayoutModel",
            "justify_items": null,
            "grid_row": null,
            "max_height": null,
            "align_content": null,
            "visibility": null,
            "align_self": null,
            "height": null,
            "min_height": null,
            "padding": null,
            "grid_auto_rows": null,
            "grid_gap": null,
            "max_width": null,
            "order": null,
            "_view_module_version": "1.2.0",
            "grid_template_areas": null,
            "object_position": null,
            "object_fit": null,
            "grid_auto_columns": null,
            "margin": null,
            "display": null,
            "left": null
          }
        },
        "3aeb514487104edca036d1eb659d3766": {
          "model_module": "@jupyter-widgets/controls",
          "model_name": "DescriptionStyleModel",
          "state": {
            "_view_name": "StyleView",
            "_model_name": "DescriptionStyleModel",
            "description_width": "",
            "_view_module": "@jupyter-widgets/base",
            "_model_module_version": "1.5.0",
            "_view_count": null,
            "_view_module_version": "1.2.0",
            "_model_module": "@jupyter-widgets/controls"
          }
        },
        "aa7132f56487496fa8ba6086a17c6de0": {
          "model_module": "@jupyter-widgets/base",
          "model_name": "LayoutModel",
          "state": {
            "_view_name": "LayoutView",
            "grid_template_rows": null,
            "right": null,
            "justify_content": null,
            "_view_module": "@jupyter-widgets/base",
            "overflow": null,
            "_model_module_version": "1.2.0",
            "_view_count": null,
            "flex_flow": null,
            "width": null,
            "min_width": null,
            "border": null,
            "align_items": null,
            "bottom": null,
            "_model_module": "@jupyter-widgets/base",
            "top": null,
            "grid_column": null,
            "overflow_y": null,
            "overflow_x": null,
            "grid_auto_flow": null,
            "grid_area": null,
            "grid_template_columns": null,
            "flex": null,
            "_model_name": "LayoutModel",
            "justify_items": null,
            "grid_row": null,
            "max_height": null,
            "align_content": null,
            "visibility": null,
            "align_self": null,
            "height": null,
            "min_height": null,
            "padding": null,
            "grid_auto_rows": null,
            "grid_gap": null,
            "max_width": null,
            "order": null,
            "_view_module_version": "1.2.0",
            "grid_template_areas": null,
            "object_position": null,
            "object_fit": null,
            "grid_auto_columns": null,
            "margin": null,
            "display": null,
            "left": null
          }
        }
      }
    }
  },
  "cells": [
    {
      "cell_type": "markdown",
      "metadata": {
        "id": "view-in-github",
        "colab_type": "text"
      },
      "source": [
        "<a href=\"https://colab.research.google.com/github/deenukhan/deep_learning/blob/main/4_cnn_xception_transfer_learning.ipynb\" target=\"_parent\"><img src=\"https://colab.research.google.com/assets/colab-badge.svg\" alt=\"Open In Colab\"/></a>"
      ]
    },
    {
      "cell_type": "code",
      "metadata": {
        "id": "I3SfTDXz_orV"
      },
      "source": [
        "# This Notebook is inspired the book Hands-On Machine Learning with Scikit-Learn, Keras, and TensorFlow\n",
        "# In this Notebook We Will be training the Model on Flowers dataset and will use xception pretrained model for the task\n",
        "# Here we will be learning and Implementing the concept of Transfer Learning  \n",
        "\n",
        "# Importing the Libraries\n",
        "import tensorflow as tf\n",
        "from tensorflow import keras\n",
        "import tensorflow_datasets as tfds"
      ],
      "execution_count": 2,
      "outputs": []
    },
    {
      "cell_type": "code",
      "metadata": {
        "colab": {
          "base_uri": "https://localhost:8080/",
          "height": 222,
          "referenced_widgets": [
            "8b4b7b92b36747e6ba4f10a78ea8909b",
            "ab27ecfd72de41359f6e00390af99e62",
            "45cf3b97c0d84222a2c0b80450f2c5fc",
            "2c35b55b234e4065b6a490a1019dae29",
            "054b9b60b4594719ab5f761acc070c5b",
            "9171d5b6e5d1425e8c4f59336bfe1ea9",
            "3aeb514487104edca036d1eb659d3766",
            "aa7132f56487496fa8ba6086a17c6de0"
          ]
        },
        "id": "t9CkzYL0J3c1",
        "outputId": "a4936c49-6ecd-4846-ddb5-5bf094ebe61b"
      },
      "source": [
        "#Let's Download the flowers dataset for , checkout the below link for more information \n",
        "# https://www.tensorflow.org/datasets/overview#load_a_dataset\n",
        "\n",
        "datasets, info = tfds.load('tf_flowers', split = 'train', as_supervised=True, with_info=True)\n",
        "\n",
        "dataset_size = info.splits['train'].num_examples\n",
        "class_names = info.features['label'].names\n",
        "n_classes = info.features['label'].num_classes"
      ],
      "execution_count": 3,
      "outputs": [
        {
          "output_type": "stream",
          "text": [
            "\u001b[1mDownloading and preparing dataset tf_flowers/3.0.1 (download: 218.21 MiB, generated: 221.83 MiB, total: 440.05 MiB) to /root/tensorflow_datasets/tf_flowers/3.0.1...\u001b[0m\n"
          ],
          "name": "stdout"
        },
        {
          "output_type": "stream",
          "text": [
            "WARNING:absl:Dataset tf_flowers is hosted on GCS. It will automatically be downloaded to your\n",
            "local data directory. If you'd instead prefer to read directly from our public\n",
            "GCS bucket (recommended if you're running on GCP), you can instead pass\n",
            "`try_gcs=True` to `tfds.load` or set `data_dir=gs://tfds-data/datasets`.\n",
            "\n"
          ],
          "name": "stderr"
        },
        {
          "output_type": "display_data",
          "data": {
            "application/vnd.jupyter.widget-view+json": {
              "model_id": "8b4b7b92b36747e6ba4f10a78ea8909b",
              "version_minor": 0,
              "version_major": 2
            },
            "text/plain": [
              "HBox(children=(FloatProgress(value=0.0, description='Dl Completed...', max=5.0, style=ProgressStyle(descriptio…"
            ]
          },
          "metadata": {
            "tags": []
          }
        },
        {
          "output_type": "stream",
          "text": [
            "\n",
            "\n",
            "\u001b[1mDataset tf_flowers downloaded and prepared to /root/tensorflow_datasets/tf_flowers/3.0.1. Subsequent calls will reuse this data.\u001b[0m\n"
          ],
          "name": "stdout"
        }
      ]
    },
    {
      "cell_type": "code",
      "metadata": {
        "colab": {
          "base_uri": "https://localhost:8080/"
        },
        "id": "fsQB-WPkKjsd",
        "outputId": "cecb60d1-1d3d-4a2b-cfc9-0739e88f4b6b"
      },
      "source": [
        "# First let's take a look on the dataset and explore the size and other features\n",
        "print(\"Total Data Points in the Dataset : \", dataset_size)\n",
        "print(\"Classes : \", class_names)\n",
        "\n",
        "# Let's Checkout the shape of the few example\n",
        "# Here we can see that shape of flower images are not same and as Xception Model excepts the 224 × 224 Shape\n",
        "# We need to resize them before feeding into the model\n",
        "for image, label in datasets.take(3):\n",
        "    print(image.shape, label)"
      ],
      "execution_count": 4,
      "outputs": [
        {
          "output_type": "stream",
          "text": [
            "Total Data Points in the Dataset :  3670\n",
            "Classes :  ['dandelion', 'daisy', 'tulips', 'sunflowers', 'roses']\n",
            "(333, 500, 3) tf.Tensor(2, shape=(), dtype=int64)\n",
            "(212, 320, 3) tf.Tensor(3, shape=(), dtype=int64)\n",
            "(240, 320, 3) tf.Tensor(3, shape=(), dtype=int64)\n"
          ],
          "name": "stdout"
        }
      ]
    },
    {
      "cell_type": "code",
      "metadata": {
        "id": "fo-cH4uEN3TD"
      },
      "source": [
        "# We don't have testing and validation datasets, Let's create the same \n",
        "# We will be using tfds.load api for this\n",
        "# We can skip the stpe of loading the datsets in earlier cell, if we are performing below code\n",
        "\n",
        "test_set_raw, valid_set_raw, train_set_raw = tfds.load(\n",
        "    \"tf_flowers\", split = ['train[:10%]', 'train[10%:25%]', 'train[25%:]'],\n",
        "    as_supervised = True\n",
        ")"
      ],
      "execution_count": 5,
      "outputs": []
    },
    {
      "cell_type": "code",
      "metadata": {
        "id": "kEKwd4rFQT0J"
      },
      "source": [
        "# Next we must preprocess the images. The CNN expects 224 × 224 images, \n",
        "# so we need to resize them. We also need to run the images through Xception’s preprocess_input() function\n",
        "\n",
        "def pre_process(image, label):\n",
        "    resized_image = tf.image.resize(image, [224, 224])\n",
        "    final_image = keras.applications.xception.preprocess_input(resized_image)\n",
        "    return final_image, label\n",
        "    "
      ],
      "execution_count": 6,
      "outputs": []
    },
    {
      "cell_type": "code",
      "metadata": {
        "id": "w12H_s9vRMmC"
      },
      "source": [
        "# Now Let’s apply this preprocessing function to all three datasets, shuffle the training \n",
        "# set, and add batching and prefetching to all the datasets\n",
        "\n",
        "batch_size = 32\n",
        "train_set_raw = train_set_raw.shuffle(1000)\n",
        "train_set = train_set_raw.map(pre_process).batch(batch_size).prefetch(1)\n",
        "test_set = test_set_raw.map(pre_process).batch(batch_size).prefetch(1)\n",
        "valid_set = valid_set_raw.map(pre_process).batch(batch_size).prefetch(1)\n"
      ],
      "execution_count": 7,
      "outputs": []
    },
    {
      "cell_type": "code",
      "metadata": {
        "id": "CRFUDD1hSR74"
      },
      "source": [
        "# let’s load an Xception model, pretrained on ImageNet. We exclude the top of the network by setting include_top=False\n",
        "\n",
        "base_model = keras.applications.xception.Xception(weights='imagenet', include_top=False)\n",
        "\n",
        "avg = keras.layers.GlobalAveragePooling2D()(base_model.output)\n",
        "output = keras.layers.Dense(n_classes, activation='softmax')(avg)\n",
        "model = keras.Model(inputs = base_model.input, outputs = output)"
      ],
      "execution_count": 13,
      "outputs": []
    },
    {
      "cell_type": "code",
      "metadata": {
        "id": "Se9hqENOTHQJ"
      },
      "source": [
        "# Let's Freeeze the all the layers of the base model\n",
        "for layer in base_model.layers:\n",
        "    layer.trainable = False\n",
        "\n",
        "# We could have directly freeze all the layers by below code\n",
        "# base_model.trainable = False"
      ],
      "execution_count": 14,
      "outputs": []
    },
    {
      "cell_type": "code",
      "metadata": {
        "colab": {
          "base_uri": "https://localhost:8080/"
        },
        "id": "yGm0CWRdTS0U",
        "outputId": "af21044c-46e6-41ed-f7de-7d8e351b44ff"
      },
      "source": [
        "# Now Let's compile the model and start the training \n",
        "from datetime import datetime\n",
        "print(\"Model Training Started with Colab GPU at \", datetime.now())\n",
        "model.compile(optimizer=keras.optimizers.SGD(lr = 0.2, momentum= 0.9, decay = 0.01),\n",
        "              loss = 'sparse_categorical_crossentropy', \n",
        "              metrics = ['accuracy'])\n",
        "model.fit(train_set, epochs=5, validation_data=valid_set)\n",
        "print(\"Model Training Finished with Colab GPU at \", datetime.now())\n"
      ],
      "execution_count": 15,
      "outputs": [
        {
          "output_type": "stream",
          "text": [
            "Model Training Started with Colab GPU at  2021-04-26 14:16:20.505811\n",
            "Epoch 1/5\n",
            "86/86 [==============================] - 16s 167ms/step - loss: 1.5566 - accuracy: 0.7004 - val_loss: 0.9347 - val_accuracy: 0.8494\n",
            "Epoch 2/5\n",
            "86/86 [==============================] - 15s 169ms/step - loss: 0.4657 - accuracy: 0.9054 - val_loss: 0.7178 - val_accuracy: 0.8603\n",
            "Epoch 3/5\n",
            "86/86 [==============================] - 15s 174ms/step - loss: 0.2211 - accuracy: 0.9466 - val_loss: 0.7075 - val_accuracy: 0.8621\n",
            "Epoch 4/5\n",
            "86/86 [==============================] - 15s 169ms/step - loss: 0.1229 - accuracy: 0.9595 - val_loss: 0.6834 - val_accuracy: 0.8693\n",
            "Epoch 5/5\n",
            "86/86 [==============================] - 14s 164ms/step - loss: 0.0566 - accuracy: 0.9809 - val_loss: 0.6746 - val_accuracy: 0.8784\n",
            "Model Training Finished with Colab GPU at  2021-04-26 14:17:35.141469\n"
          ],
          "name": "stdout"
        }
      ]
    },
    {
      "cell_type": "code",
      "metadata": {
        "colab": {
          "base_uri": "https://localhost:8080/"
        },
        "id": "7uWJSKP_fteO",
        "outputId": "1975bc9a-aff6-4d3b-95e3-90b62a085eb4"
      },
      "source": [
        "# After training the model for a few epochs, its validation accuracy should reach about \n",
        "# 75–80% and stop making much progress. This means that the top layers are now pretty well trained, \n",
        "# so we are ready to unfreeze all the layers (or you could try unfreezing just the top ones) and continue \n",
        "# training (don’t forget to compile the model when you freeze or unfreeze layers). \n",
        "# This time we use a much lower learning rate to avoid damaging the pretrained weights\n",
        "\n",
        "for layer in base_model.layers:\n",
        "    layer.trainable = True\n",
        "\n",
        "print(\"Model Training Started with Colab GPU at \", datetime.now())\n",
        "model.compile(optimizer=keras.optimizers.SGD(lr = 0.01, momentum= 0.9, decay = 0.001),\n",
        "              loss = 'sparse_categorical_crossentropy', \n",
        "              metrics = ['accuracy'])\n",
        "model.fit(train_set, epochs=5, validation_data=valid_set)\n",
        "print(\"Model Training Finished with Colab GPU at \", datetime.now())\n",
        "\n",
        "# Here We can observe that Validation accuracy has increased than our earlier model\n",
        "# And as In this model we are training all the layers, it took more time"
      ],
      "execution_count": 16,
      "outputs": [
        {
          "output_type": "stream",
          "text": [
            "Model Training Started with Colab GPU at  2021-04-26 14:17:48.635188\n",
            "Epoch 1/5\n",
            "86/86 [==============================] - 60s 661ms/step - loss: 0.4657 - accuracy: 0.8523 - val_loss: 0.4448 - val_accuracy: 0.8675\n",
            "Epoch 2/5\n",
            "86/86 [==============================] - 55s 640ms/step - loss: 0.0772 - accuracy: 0.9776 - val_loss: 0.3472 - val_accuracy: 0.8984\n",
            "Epoch 3/5\n",
            "86/86 [==============================] - 56s 647ms/step - loss: 0.0329 - accuracy: 0.9923 - val_loss: 0.3025 - val_accuracy: 0.9147\n",
            "Epoch 4/5\n",
            "86/86 [==============================] - 56s 646ms/step - loss: 0.0062 - accuracy: 0.9982 - val_loss: 0.3265 - val_accuracy: 0.9220\n",
            "Epoch 5/5\n",
            "86/86 [==============================] - 56s 646ms/step - loss: 0.0076 - accuracy: 0.9979 - val_loss: 0.3180 - val_accuracy: 0.9347\n",
            "Model Training Finished with Colab GPU at  2021-04-26 14:22:30.515046\n"
          ],
          "name": "stdout"
        }
      ]
    },
    {
      "cell_type": "code",
      "metadata": {
        "id": "aQno4CS5fckg"
      },
      "source": [
        ""
      ],
      "execution_count": null,
      "outputs": []
    }
  ]
}