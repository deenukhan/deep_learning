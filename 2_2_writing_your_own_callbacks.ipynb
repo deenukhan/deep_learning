{
  "nbformat": 4,
  "nbformat_minor": 0,
  "metadata": {
    "colab": {
      "name": "2.2 writing_your_own_callbacks.ipynb",
      "provenance": [],
      "authorship_tag": "ABX9TyPeEeRYVnNKtKtUo0qHn6AB",
      "include_colab_link": true
    },
    "kernelspec": {
      "name": "python3",
      "display_name": "Python 3"
    },
    "language_info": {
      "name": "python"
    },
    "accelerator": "GPU"
  },
  "cells": [
    {
      "cell_type": "markdown",
      "metadata": {
        "id": "view-in-github",
        "colab_type": "text"
      },
      "source": [
        "<a href=\"https://colab.research.google.com/github/deenukhan/deep_learning/blob/main/2_2_writing_your_own_callbacks.ipynb\" target=\"_parent\"><img src=\"https://colab.research.google.com/assets/colab-badge.svg\" alt=\"Open In Colab\"/></a>"
      ]
    },
    {
      "cell_type": "code",
      "metadata": {
        "id": "KTaJ8Z4DX1bl"
      },
      "source": [
        "# This Notebook is inspired by Keras Official Documentation, Please checkout the below link for more information.\n",
        "# https://keras.io/guides/writing_your_own_callbacks/#:~:text=Keras%20callbacks%20overview&text=Callback%20class%2C%20and%20override%20a,of%20the%20model%20during%20training."
      ],
      "execution_count": null,
      "outputs": []
    },
    {
      "cell_type": "markdown",
      "metadata": {
        "id": "KCUHWJffXwH_"
      },
      "source": [
        "## **Introduction**\n",
        "A callback is a powerful tool to customize the behavior of a Keras model during training, evaluation, or inference. Examples include tf.keras.callbacks.TensorBoard to visualize training progress and results with TensorBoard, or tf.keras.callbacks.ModelCheckpoint to periodically save your model during training.\n",
        "\n",
        "In this guide, you will learn what a Keras callback is, what it can do, and how you can build your own. We provide a few demos of simple callback applications to get you started.\n",
        "\n",
        "## **Keras callbacks overview**\n",
        "All callbacks subclass the keras.callbacks.Callback class, and override a set of methods called at various stages of training, testing, and predicting. Callbacks are useful to get a view on internal states and statistics of the model during training.\n",
        "\n",
        "You can pass a list of callbacks (as the keyword argument callbacks) to the following model methods:\n",
        "\n",
        "1. keras.Model.fit()\n",
        "2. keras.Model.evaluate()\n",
        "3. keras.Model.predict()\n",
        "\n",
        "## **An overview of callback methods**\n",
        "### **Global methods**\n",
        "**on_(train|test|predict)_begin(self, logs=None)**\n",
        "Called at the beginning of fit/evaluate/predict.\n",
        "\n",
        "**on_(train|test|predict)_end(self, logs=None)**\n",
        "Called at the end of fit/evaluate/predict.\n",
        "\n",
        "### **Batch-level methods for training/testing/predicting**\n",
        "**on_(train|test|predict)_batch_begin(self, batch, logs=None)**\n",
        "Called right before processing a batch during training/testing/predicting.\n",
        "\n",
        "**on_(train|test|predict)_batch_end(self, batch, logs=None)**\n",
        "Called at the end of training/testing/predicting a batch. Within this method, logs is a dict containing the metrics results.\n",
        "\n",
        "### **Epoch-level methods (training only)**\n",
        "**on_epoch_begin(self, epoch, logs=None)**\n",
        "Called at the beginning of an epoch during training.\n",
        "\n",
        "**on_epoch_end(self, epoch, logs=None)**\n",
        "Called at the end of an epoch during training."
      ]
    },
    {
      "cell_type": "code",
      "metadata": {
        "id": "81DjZybdWq1x"
      },
      "source": [
        "import tensorflow as tf\n",
        "from tensorflow import keras\n",
        "import numpy as np"
      ],
      "execution_count": 1,
      "outputs": []
    },
    {
      "cell_type": "code",
      "metadata": {
        "colab": {
          "base_uri": "https://localhost:8080/"
        },
        "id": "jIG6Ktg7W-K2",
        "outputId": "93098521-fc5a-49ce-cb7e-56a5a2b8e81a"
      },
      "source": [
        "# We will be using below Model to Test out the callbacks \n",
        "keras.backend.clear_session()\n",
        "\n",
        "fashion_mnist = keras.datasets.fashion_mnist\n",
        "(X_train, y_train), (X_test, y_test) = fashion_mnist.load_data()\n",
        "\n",
        "#Normalizing the data\n",
        "X_train = X_train.reshape(60000, 28, 28, 1)\n",
        "X_test = X_test.reshape(10000, 28, 28, 1)\n",
        "X_train, X_test = X_train/255. , X_test/255.\n",
        "\n",
        "# Let's Create the Model\n",
        "\n",
        "conv_model = keras.models.Sequential([\n",
        "            keras.layers.Conv2D(128, kernel_size = 3, activation = 'relu', input_shape=(28, 28, 1)),\n",
        "            keras.layers.MaxPooling2D((2,2)),\n",
        "            keras.layers.Flatten(),\n",
        "            keras.layers.Dense(512, activation = 'relu'),\n",
        "            keras.layers.Dense(10, activation = 'softmax')\n",
        "])\n",
        "\n",
        "conv_model.compile(loss = 'sparse_categorical_crossentropy', optimizer = 'adam', metrics = ['accuracy'])\n",
        "conv_model.fit(X_train, y_train, epochs=10, validation_split = 0.2)"
      ],
      "execution_count": 3,
      "outputs": [
        {
          "output_type": "stream",
          "text": [
            "Epoch 1/10\n",
            "1500/1500 [==============================] - 40s 5ms/step - loss: 0.4908 - accuracy: 0.8253 - val_loss: 0.3002 - val_accuracy: 0.8910\n",
            "Epoch 2/10\n",
            "1500/1500 [==============================] - 8s 5ms/step - loss: 0.2490 - accuracy: 0.9071 - val_loss: 0.2639 - val_accuracy: 0.9044\n",
            "Epoch 3/10\n",
            "1500/1500 [==============================] - 8s 5ms/step - loss: 0.1918 - accuracy: 0.9282 - val_loss: 0.2663 - val_accuracy: 0.9040\n",
            "Epoch 4/10\n",
            "1500/1500 [==============================] - 8s 5ms/step - loss: 0.1453 - accuracy: 0.9463 - val_loss: 0.2663 - val_accuracy: 0.9090\n",
            "Epoch 5/10\n",
            "1500/1500 [==============================] - 8s 5ms/step - loss: 0.1070 - accuracy: 0.9612 - val_loss: 0.2640 - val_accuracy: 0.9166\n",
            "Epoch 6/10\n",
            "1500/1500 [==============================] - 8s 5ms/step - loss: 0.0806 - accuracy: 0.9708 - val_loss: 0.3040 - val_accuracy: 0.9147\n",
            "Epoch 7/10\n",
            "1500/1500 [==============================] - 8s 5ms/step - loss: 0.0617 - accuracy: 0.9777 - val_loss: 0.3484 - val_accuracy: 0.9083\n",
            "Epoch 8/10\n",
            "1500/1500 [==============================] - 8s 5ms/step - loss: 0.0486 - accuracy: 0.9831 - val_loss: 0.3559 - val_accuracy: 0.9168\n",
            "Epoch 9/10\n",
            "1500/1500 [==============================] - 8s 5ms/step - loss: 0.0368 - accuracy: 0.9867 - val_loss: 0.3744 - val_accuracy: 0.9143\n",
            "Epoch 10/10\n",
            "1500/1500 [==============================] - 8s 5ms/step - loss: 0.0293 - accuracy: 0.9897 - val_loss: 0.4411 - val_accuracy: 0.9116\n"
          ],
          "name": "stdout"
        },
        {
          "output_type": "execute_result",
          "data": {
            "text/plain": [
              "<tensorflow.python.keras.callbacks.History at 0x7f31766371d0>"
            ]
          },
          "metadata": {
            "tags": []
          },
          "execution_count": 3
        }
      ]
    },
    {
      "cell_type": "code",
      "metadata": {
        "colab": {
          "base_uri": "https://localhost:8080/"
        },
        "id": "dQoVKhslZtp8",
        "outputId": "2dd1e6d6-ebef-478a-da24-031f4a577fd7"
      },
      "source": [
        "# We will be using below Model to Test out the callbacks \n",
        "# Let's Stop the Training when our Validation Accuracy has reached to some specific point\n",
        "\n",
        "keras.backend.clear_session()\n",
        "\n",
        "fashion_mnist = keras.datasets.fashion_mnist\n",
        "(X_train, y_train), (X_test, y_test) = fashion_mnist.load_data()\n",
        "\n",
        "# Below Code is used for Loss, and We can write multiple methods withing in single class\n",
        "# class myCallback(tf.keras.callbacks.Callback):\n",
        "#   def on_epoch_end(self, epoch, logs={}):\n",
        "#     if(logs.get('val_accuracy')>0.86):\n",
        "#       print(\"\\nReached 60% accuracy so cancelling training!\")\n",
        "#       self.model.stop_training = True\n",
        "\n",
        "class myCallback(tf.keras.callbacks.Callback):\n",
        "    def on_epoch_end(self, epoch, logs={}):\n",
        "        if(logs.get('val_accuracy')>0.86):\n",
        "            print(\"\\nValidation Accuracy is Good Now, Stopping the Trainging.......\")\n",
        "            self.model.stop_training = True\n",
        "\n",
        "callback = myCallback()\n",
        "#Normalizing the data\n",
        "X_train, X_test = X_train/255. , X_test/255.\n",
        "\n",
        "# Let's Create the Model\n",
        "conv_model = keras.models.Sequential([\n",
        "            keras.layers.Flatten(),\n",
        "            keras.layers.Dense(128, activation = 'relu'),\n",
        "            keras.layers.Dense(10, activation = 'softmax')\n",
        "])\n",
        "\n",
        "conv_model.compile(loss = 'sparse_categorical_crossentropy', optimizer = 'adam', metrics = ['accuracy'])\n",
        "conv_model.fit(X_train, y_train, epochs=10, validation_split = 0.2, callbacks=[callback])"
      ],
      "execution_count": 22,
      "outputs": [
        {
          "output_type": "stream",
          "text": [
            "Epoch 1/10\n",
            "1500/1500 [==============================] - 3s 2ms/step - loss: 0.6533 - accuracy: 0.7733 - val_loss: 0.4181 - val_accuracy: 0.8521\n",
            "Epoch 2/10\n",
            "1500/1500 [==============================] - 3s 2ms/step - loss: 0.3929 - accuracy: 0.8597 - val_loss: 0.3815 - val_accuracy: 0.8648\n",
            "\n",
            "Validation Accuracy is Good Now, Stopping the Trainging.......\n"
          ],
          "name": "stdout"
        },
        {
          "output_type": "execute_result",
          "data": {
            "text/plain": [
              "<tensorflow.python.keras.callbacks.History at 0x7f308c518e50>"
            ]
          },
          "metadata": {
            "tags": []
          },
          "execution_count": 22
        }
      ]
    },
    {
      "cell_type": "markdown",
      "metadata": {
        "id": "iKKR2c-Rfz0v"
      },
      "source": [
        "## **Usage of self.model attribute**\n",
        "In addition to receiving log information when one of their methods is called, callbacks have access to the model associated with the current round of training/evaluation/inference: self.model.\n",
        "\n",
        "Here are of few of the things you can do with self.model in a callback:\n",
        "\n",
        "1. Set self.model.stop_training = True to immediately interrupt training.\n",
        "2. Mutate hyperparameters of the optimizer (available as self.model.optimizer), such as self.model.optimizer.learning_rate.\n",
        "3. Save the model at period intervals.\n",
        "4. Record the output of model.predict() on a few test samples at the end of each epoch, to use as a sanity check during training.\n",
        "5. Extract visualizations of intermediate features at the end of each epoch, to monitor what the model is learning over time.\n",
        "etc.\n",
        "\n",
        "Let's see this in action in a couple of examples."
      ]
    },
    {
      "cell_type": "markdown",
      "metadata": {
        "id": "AnYN3kSKgkrT"
      },
      "source": [
        "## **Learning rate scheduling**\n",
        "In this example, we show how a custom Callback can be used to dynamically change the learning rate of the optimizer during the course of training.\n",
        "\n",
        "See callbacks.LearningRateScheduler for a more general implementations."
      ]
    },
    {
      "cell_type": "code",
      "metadata": {
        "id": "nNJkYEPDgu3s"
      },
      "source": [
        "# Define the Keras model to add callbacks to\n",
        "def get_model():\n",
        "    model = keras.Sequential()\n",
        "    model.add(keras.layers.Dense(1, input_dim=784))\n",
        "    model.compile(\n",
        "        optimizer=keras.optimizers.RMSprop(learning_rate=0.1),\n",
        "        loss=\"mean_squared_error\",\n",
        "        metrics=[\"mean_absolute_error\"],\n",
        "    )\n",
        "    return model"
      ],
      "execution_count": 24,
      "outputs": []
    },
    {
      "cell_type": "code",
      "metadata": {
        "colab": {
          "base_uri": "https://localhost:8080/"
        },
        "id": "QMwjd3yLgxmL",
        "outputId": "4a48b2d5-52a5-4a87-e2c6-4c1eea7ff2fe"
      },
      "source": [
        "# Load example MNIST data and pre-process it\n",
        "(x_train, y_train), (x_test, y_test) = tf.keras.datasets.mnist.load_data()\n",
        "x_train = x_train.reshape(-1, 784).astype(\"float32\") / 255.0\n",
        "x_test = x_test.reshape(-1, 784).astype(\"float32\") / 255.0\n",
        "\n",
        "# Limit the data to 1000 samples\n",
        "x_train = x_train[:1000]\n",
        "y_train = y_train[:1000]\n",
        "x_test = x_test[:1000]\n",
        "y_test = y_test[:1000]"
      ],
      "execution_count": 25,
      "outputs": [
        {
          "output_type": "stream",
          "text": [
            "Downloading data from https://storage.googleapis.com/tensorflow/tf-keras-datasets/mnist.npz\n",
            "11493376/11490434 [==============================] - 0s 0us/step\n"
          ],
          "name": "stdout"
        }
      ]
    },
    {
      "cell_type": "code",
      "metadata": {
        "colab": {
          "base_uri": "https://localhost:8080/"
        },
        "id": "8k99CMtSXfvJ",
        "outputId": "5ed37591-0099-46c5-8ef0-fabdbd3baa5a"
      },
      "source": [
        "class LossAndErrorPrintingCallback(keras.callbacks.Callback):\n",
        "    def on_train_batch_end(self, batch, logs=None):\n",
        "        print(\"For batch {}, loss is {:7.2f}.\".format(batch, logs[\"loss\"]))\n",
        "\n",
        "    def on_test_batch_end(self, batch, logs=None):\n",
        "        print(\"For batch {}, loss is {:7.2f}.\".format(batch, logs[\"loss\"]))\n",
        "\n",
        "    def on_epoch_end(self, epoch, logs=None):\n",
        "        print(\n",
        "            \"The average loss for epoch {} is {:7.2f} \"\n",
        "            \"and mean absolute error is {:7.2f}.\".format(\n",
        "                epoch, logs[\"loss\"], logs[\"mean_absolute_error\"]\n",
        "            )\n",
        "        )\n",
        "\n",
        "\n",
        "class CustomLearningRateScheduler(keras.callbacks.Callback):\n",
        "    \"\"\"Learning rate scheduler which sets the learning rate according to schedule.\n",
        "\n",
        "  Arguments:\n",
        "      schedule: a function that takes an epoch index\n",
        "          (integer, indexed from 0) and current learning rate\n",
        "          as inputs and returns a new learning rate as output (float).\n",
        "  \"\"\"\n",
        "\n",
        "    def __init__(self, schedule):\n",
        "        super(CustomLearningRateScheduler, self).__init__()\n",
        "        self.schedule = schedule\n",
        "\n",
        "    def on_epoch_begin(self, epoch, logs=None):\n",
        "        if not hasattr(self.model.optimizer, \"lr\"):\n",
        "            raise ValueError('Optimizer must have a \"lr\" attribute.')\n",
        "        # Get the current learning rate from model's optimizer.\n",
        "        lr = float(tf.keras.backend.get_value(self.model.optimizer.learning_rate))\n",
        "        # Call schedule function to get the scheduled learning rate.\n",
        "        scheduled_lr = self.schedule(epoch, lr)\n",
        "        # Set the value back to the optimizer before this epoch starts\n",
        "        tf.keras.backend.set_value(self.model.optimizer.lr, scheduled_lr)\n",
        "        print(\"\\nEpoch %05d: Learning rate is %6.4f.\" % (epoch, scheduled_lr))\n",
        "\n",
        "\n",
        "LR_SCHEDULE = [\n",
        "    # (epoch to start, learning rate) tuples\n",
        "    (3, 0.05),\n",
        "    (6, 0.01),\n",
        "    (9, 0.005),\n",
        "    (12, 0.001),\n",
        "]\n",
        "\n",
        "\n",
        "def lr_schedule(epoch, lr):\n",
        "    \"\"\"Helper function to retrieve the scheduled learning rate based on epoch.\"\"\"\n",
        "    if epoch < LR_SCHEDULE[0][0] or epoch > LR_SCHEDULE[-1][0]:\n",
        "        return lr\n",
        "    for i in range(len(LR_SCHEDULE)):\n",
        "        if epoch == LR_SCHEDULE[i][0]:\n",
        "            return LR_SCHEDULE[i][1]\n",
        "    return lr\n",
        "\n",
        "\n",
        "model = get_model()\n",
        "model.fit(\n",
        "    x_train,\n",
        "    y_train,\n",
        "    batch_size=64,\n",
        "    steps_per_epoch=5,\n",
        "    epochs=15,\n",
        "    verbose=0,\n",
        "    callbacks=[\n",
        "        LossAndErrorPrintingCallback(),\n",
        "        CustomLearningRateScheduler(lr_schedule),\n",
        "    ],\n",
        ")"
      ],
      "execution_count": 27,
      "outputs": [
        {
          "output_type": "stream",
          "text": [
            "\n",
            "Epoch 00000: Learning rate is 0.1000.\n",
            "For batch 0, loss is   23.47.\n",
            "For batch 1, loss is  409.02.\n",
            "For batch 2, loss is  281.10.\n",
            "For batch 3, loss is  212.96.\n",
            "For batch 4, loss is  171.80.\n",
            "The average loss for epoch 0 is  171.80 and mean absolute error is    7.81.\n",
            "\n",
            "Epoch 00001: Learning rate is 0.1000.\n",
            "For batch 0, loss is    7.70.\n",
            "For batch 1, loss is    6.22.\n",
            "For batch 2, loss is    5.82.\n",
            "For batch 3, loss is    5.74.\n",
            "For batch 4, loss is    5.53.\n",
            "The average loss for epoch 1 is    5.53 and mean absolute error is    1.89.\n",
            "\n",
            "Epoch 00002: Learning rate is 0.1000.\n",
            "For batch 0, loss is    4.79.\n",
            "For batch 1, loss is    4.34.\n",
            "For batch 2, loss is    4.43.\n",
            "For batch 3, loss is    4.72.\n",
            "For batch 4, loss is    4.66.\n",
            "The average loss for epoch 2 is    4.66 and mean absolute error is    1.71.\n",
            "\n",
            "Epoch 00003: Learning rate is 0.0500.\n",
            "For batch 0, loss is    5.43.\n",
            "For batch 1, loss is    4.19.\n",
            "For batch 2, loss is    3.97.\n",
            "For batch 3, loss is    3.89.\n",
            "For batch 4, loss is    3.76.\n",
            "The average loss for epoch 3 is    3.76 and mean absolute error is    1.57.\n",
            "\n",
            "Epoch 00004: Learning rate is 0.0500.\n",
            "For batch 0, loss is    4.14.\n",
            "For batch 1, loss is    4.10.\n",
            "For batch 2, loss is    4.06.\n",
            "For batch 3, loss is    3.96.\n",
            "For batch 4, loss is    4.32.\n",
            "The average loss for epoch 4 is    4.32 and mean absolute error is    1.68.\n",
            "\n",
            "Epoch 00005: Learning rate is 0.0500.\n",
            "For batch 0, loss is    4.25.\n",
            "For batch 1, loss is    3.88.\n",
            "For batch 2, loss is    4.23.\n",
            "For batch 3, loss is    4.66.\n",
            "For batch 4, loss is    5.10.\n",
            "The average loss for epoch 5 is    5.10 and mean absolute error is    1.81.\n",
            "\n",
            "Epoch 00006: Learning rate is 0.0100.\n",
            "For batch 0, loss is   11.01.\n",
            "For batch 1, loss is    8.21.\n",
            "For batch 2, loss is    6.22.\n",
            "For batch 3, loss is    5.38.\n",
            "For batch 4, loss is    4.96.\n",
            "The average loss for epoch 6 is    4.96 and mean absolute error is    1.73.\n",
            "\n",
            "Epoch 00007: Learning rate is 0.0100.\n",
            "For batch 0, loss is    5.72.\n",
            "For batch 1, loss is    3.99.\n",
            "For batch 2, loss is    3.79.\n",
            "For batch 3, loss is    3.85.\n",
            "For batch 4, loss is    3.55.\n",
            "The average loss for epoch 7 is    3.55 and mean absolute error is    1.45.\n",
            "\n",
            "Epoch 00008: Learning rate is 0.0100.\n",
            "For batch 0, loss is    3.67.\n",
            "For batch 1, loss is    3.37.\n",
            "For batch 2, loss is    3.19.\n",
            "For batch 3, loss is    3.13.\n",
            "For batch 4, loss is    3.31.\n",
            "The average loss for epoch 8 is    3.31 and mean absolute error is    1.45.\n",
            "\n",
            "Epoch 00009: Learning rate is 0.0050.\n",
            "For batch 0, loss is    4.29.\n",
            "For batch 1, loss is    3.79.\n",
            "For batch 2, loss is    3.68.\n",
            "For batch 3, loss is    3.47.\n",
            "For batch 4, loss is    3.52.\n",
            "The average loss for epoch 9 is    3.52 and mean absolute error is    1.52.\n",
            "\n",
            "Epoch 00010: Learning rate is 0.0050.\n",
            "For batch 0, loss is    3.33.\n",
            "For batch 1, loss is    3.08.\n",
            "For batch 2, loss is    3.26.\n",
            "For batch 3, loss is    3.66.\n",
            "For batch 4, loss is    3.52.\n",
            "The average loss for epoch 10 is    3.52 and mean absolute error is    1.45.\n",
            "\n",
            "Epoch 00011: Learning rate is 0.0050.\n",
            "For batch 0, loss is    2.60.\n",
            "For batch 1, loss is    3.01.\n",
            "For batch 2, loss is    3.07.\n",
            "For batch 3, loss is    3.03.\n",
            "For batch 4, loss is    2.80.\n",
            "The average loss for epoch 11 is    2.80 and mean absolute error is    1.27.\n",
            "\n",
            "Epoch 00012: Learning rate is 0.0010.\n",
            "For batch 0, loss is    4.24.\n",
            "For batch 1, loss is    3.76.\n",
            "For batch 2, loss is    3.65.\n",
            "For batch 3, loss is    3.39.\n",
            "For batch 4, loss is    3.38.\n",
            "The average loss for epoch 12 is    3.38 and mean absolute error is    1.45.\n",
            "\n",
            "Epoch 00013: Learning rate is 0.0010.\n",
            "For batch 0, loss is    2.63.\n",
            "For batch 1, loss is    2.50.\n",
            "For batch 2, loss is    3.30.\n",
            "For batch 3, loss is    3.25.\n",
            "For batch 4, loss is    3.25.\n",
            "The average loss for epoch 13 is    3.25 and mean absolute error is    1.39.\n",
            "\n",
            "Epoch 00014: Learning rate is 0.0010.\n",
            "For batch 0, loss is    2.59.\n",
            "For batch 1, loss is    2.76.\n",
            "For batch 2, loss is    3.04.\n",
            "For batch 3, loss is    3.23.\n",
            "For batch 4, loss is    3.51.\n",
            "The average loss for epoch 14 is    3.51 and mean absolute error is    1.45.\n"
          ],
          "name": "stdout"
        },
        {
          "output_type": "execute_result",
          "data": {
            "text/plain": [
              "<tensorflow.python.keras.callbacks.History at 0x7f308c376410>"
            ]
          },
          "metadata": {
            "tags": []
          },
          "execution_count": 27
        }
      ]
    },
    {
      "cell_type": "code",
      "metadata": {
        "id": "04gAvxG5Y9jS"
      },
      "source": [
        ""
      ],
      "execution_count": null,
      "outputs": []
    }
  ]
}