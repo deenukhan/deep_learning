{
  "nbformat": 4,
  "nbformat_minor": 0,
  "metadata": {
    "colab": {
      "name": "1. Basic Sequential Model on Fashion_MNIST, California_Housing data.ipynb",
      "provenance": [],
      "collapsed_sections": []
    },
    "kernelspec": {
      "name": "python3",
      "display_name": "Python 3"
    },
    "language_info": {
      "name": "python"
    }
  },
  "cells": [
    {
      "cell_type": "code",
      "metadata": {
        "id": "9C8qNuCvndzh"
      },
      "source": [
        "# Note : All the code and learning is inspired by the book \n",
        "# \"Hands-On Machine Learning with Scikit-Learn, Keras, and TensorFlow, 2nd Edition\" by Aurélien Géron"
      ],
      "execution_count": null,
      "outputs": []
    },
    {
      "cell_type": "markdown",
      "metadata": {
        "id": "nSow4gUrrYAy"
      },
      "source": [
        "## Fashion MNIST Classification Using Sequential API"
      ]
    },
    {
      "cell_type": "code",
      "metadata": {
        "colab": {
          "base_uri": "https://localhost:8080/"
        },
        "id": "b3c3DYcMLpAQ",
        "outputId": "408da016-bf93-4b03-f208-aa7484ae4450"
      },
      "source": [
        "import tensorflow as tf\n",
        "from tensorflow import keras\n",
        "print(\"Tensorflow Version \", tf.__version__)  \n",
        "print(\"tf.keras Version \",keras.__version__)"
      ],
      "execution_count": null,
      "outputs": [
        {
          "output_type": "stream",
          "text": [
            "Tensorflow Version  2.4.1\n",
            "tf.keras Version  2.4.0\n"
          ],
          "name": "stdout"
        }
      ]
    },
    {
      "cell_type": "code",
      "metadata": {
        "colab": {
          "base_uri": "https://localhost:8080/"
        },
        "id": "g0ZaDGUNZmS-",
        "outputId": "e4cb3062-4d7b-429a-9b75-e1e402dc213b"
      },
      "source": [
        "# Here We will be building an Image Classifier Using tf.keras\n",
        "# We will be using Fashion MNIST dataset to this exercise\n",
        "\n",
        "mnist_data = keras.datasets.fashion_mnist\n",
        "(X_train, y_train), (X_test, y_test) = mnist_data.load_data()"
      ],
      "execution_count": null,
      "outputs": [
        {
          "output_type": "stream",
          "text": [
            "Downloading data from https://storage.googleapis.com/tensorflow/tf-keras-datasets/train-labels-idx1-ubyte.gz\n",
            "32768/29515 [=================================] - 0s 0us/step\n",
            "Downloading data from https://storage.googleapis.com/tensorflow/tf-keras-datasets/train-images-idx3-ubyte.gz\n",
            "26427392/26421880 [==============================] - 0s 0us/step\n",
            "Downloading data from https://storage.googleapis.com/tensorflow/tf-keras-datasets/t10k-labels-idx1-ubyte.gz\n",
            "8192/5148 [===============================================] - 0s 0us/step\n",
            "Downloading data from https://storage.googleapis.com/tensorflow/tf-keras-datasets/t10k-images-idx3-ubyte.gz\n",
            "4423680/4422102 [==============================] - 0s 0us/step\n"
          ],
          "name": "stdout"
        }
      ]
    },
    {
      "cell_type": "code",
      "metadata": {
        "colab": {
          "base_uri": "https://localhost:8080/"
        },
        "id": "zT8iUeGCZqqB",
        "outputId": "2361b7ee-968a-4ec9-cddd-715fa6402b5a"
      },
      "source": [
        "print(X_train.shape, y_train.shape)\n",
        "print(X_test.shape, y_test.shape)"
      ],
      "execution_count": null,
      "outputs": [
        {
          "output_type": "stream",
          "text": [
            "(60000, 28, 28) (60000,)\n",
            "(10000, 28, 28) (10000,)\n"
          ],
          "name": "stdout"
        }
      ]
    },
    {
      "cell_type": "code",
      "metadata": {
        "id": "g-j46kraZvwV"
      },
      "source": [
        "#We only have train and test dataset, lets make the validataion dataset as well\n",
        "#Also lets normalize the values by dividing 255, because we have values ranging 0-255\n",
        "\n",
        "X_valid, X_train = X_train[:5000]/255, X_train[5000:]/255\n",
        "y_valid, y_train = y_train[:5000], y_train[5000:]\n",
        "X_test = X_test/255"
      ],
      "execution_count": null,
      "outputs": []
    },
    {
      "cell_type": "code",
      "metadata": {
        "colab": {
          "base_uri": "https://localhost:8080/"
        },
        "id": "9tD9uBLXc4SA",
        "outputId": "2b4db8d0-eae1-4db4-a683-0f76dca9c91c"
      },
      "source": [
        "print(\"Training Shape : \", X_train.shape, y_train.shape)\n",
        "print(\"Testing Shape : \", X_test.shape, y_test.shape)\n",
        "print(\"Validation Shape : \", X_valid.shape, y_valid.shape)\n"
      ],
      "execution_count": null,
      "outputs": [
        {
          "output_type": "stream",
          "text": [
            "Training Shape :  (55000, 28, 28) (55000,)\n",
            "Testing Shape :  (10000, 28, 28) (10000,)\n",
            "Validation Shape :  (5000, 28, 28) (5000,)\n"
          ],
          "name": "stdout"
        }
      ]
    },
    {
      "cell_type": "code",
      "metadata": {
        "id": "xb_shE-ZdFXz"
      },
      "source": [
        "class_names = [\"T-shirt/top\", \"Trouser\", \"Pullover\", \"Dress\", \"Coat\",\n",
        "               \"Sandal\", \"Shirt\", \"Sneaker\", \"Bag\", \"Ankle boot\"]"
      ],
      "execution_count": null,
      "outputs": []
    },
    {
      "cell_type": "code",
      "metadata": {
        "id": "XzHgejB3dTPi"
      },
      "source": [
        "#Lets Creat the Simple Model Using Sequential API\n",
        "model = keras.models.Sequential()\n",
        "model.add(keras.layers.Flatten(input_shape = [28,28]))\n",
        "model.add(keras.layers.Dense( units = 300, activation='relu'))\n",
        "model.add(keras.layers.Dense(units = 300, activation = 'relu'))\n",
        "model.add(keras.layers.Dense(units = 10, activation = 'softmax'))\n",
        "\n",
        "\n",
        "# We could have written above code like below, we can pass the list of layers into Sequential API directly\n",
        "# model = keras.models.Sequential([\n",
        "#     keras.layers.Flatten(input_shape=[28, 28]),\n",
        "#     keras.layers.Dense(300, activation=\"relu\"),\n",
        "#     keras.layers.Dense(100, activation=\"relu\"),\n",
        "#     keras.layers.Dense(10, activation=\"softmax\")\n",
        "# ])\n"
      ],
      "execution_count": null,
      "outputs": []
    },
    {
      "cell_type": "code",
      "metadata": {
        "colab": {
          "base_uri": "https://localhost:8080/"
        },
        "id": "Js4vvRKId5eW",
        "outputId": "27617cb7-14a1-4c3f-c218-cc6ff3674178"
      },
      "source": [
        "# Let's Print out the Model Summary \n",
        "model.summary()"
      ],
      "execution_count": null,
      "outputs": [
        {
          "output_type": "stream",
          "text": [
            "Model: \"sequential_1\"\n",
            "_________________________________________________________________\n",
            "Layer (type)                 Output Shape              Param #   \n",
            "=================================================================\n",
            "flatten (Flatten)            (None, 784)               0         \n",
            "_________________________________________________________________\n",
            "dense (Dense)                (None, 300)               235500    \n",
            "_________________________________________________________________\n",
            "dense_1 (Dense)              (None, 300)               90300     \n",
            "_________________________________________________________________\n",
            "dense_2 (Dense)              (None, 10)                3010      \n",
            "=================================================================\n",
            "Total params: 328,810\n",
            "Trainable params: 328,810\n",
            "Non-trainable params: 0\n",
            "_________________________________________________________________\n"
          ],
          "name": "stdout"
        }
      ]
    },
    {
      "cell_type": "code",
      "metadata": {
        "colab": {
          "base_uri": "https://localhost:8080/"
        },
        "id": "e5_--w8Afj8M",
        "outputId": "9e134b48-8999-4b3d-a793-e20cdca9333c"
      },
      "source": [
        "# We can simply print the Model's layers \n",
        "model.layers"
      ],
      "execution_count": null,
      "outputs": [
        {
          "output_type": "execute_result",
          "data": {
            "text/plain": [
              "[<tensorflow.python.keras.layers.core.Flatten at 0x7f1b0ea08910>,\n",
              " <tensorflow.python.keras.layers.core.Dense at 0x7f1b1240e810>,\n",
              " <tensorflow.python.keras.layers.core.Dense at 0x7f1b0a9c8350>,\n",
              " <tensorflow.python.keras.layers.core.Dense at 0x7f1b0ea85390>]"
            ]
          },
          "metadata": {
            "tags": []
          },
          "execution_count": 29
        }
      ]
    },
    {
      "cell_type": "code",
      "metadata": {
        "colab": {
          "base_uri": "https://localhost:8080/"
        },
        "id": "zw14txxmf9eb",
        "outputId": "99d30188-91de-4b93-8a62-cde436e344c8"
      },
      "source": [
        "# We Also can check the layers names at any index   \n",
        "first_hidden = model.layers[1]\n",
        "print(first_hidden.name)"
      ],
      "execution_count": null,
      "outputs": [
        {
          "output_type": "stream",
          "text": [
            "dense\n"
          ],
          "name": "stdout"
        }
      ]
    },
    {
      "cell_type": "code",
      "metadata": {
        "colab": {
          "base_uri": "https://localhost:8080/"
        },
        "id": "E64XAuNAgJQq",
        "outputId": "12f390c3-4c83-42b4-9c18-af1c13e3ebb7"
      },
      "source": [
        "# We also can access the weights fo layers \n",
        "weights, bias = first_hidden.get_weights()\n",
        "print(\"Weights Shape :\", weights.shape)\n",
        "print(\"Biases Shape : \", bias.shape)"
      ],
      "execution_count": null,
      "outputs": [
        {
          "output_type": "stream",
          "text": [
            "Weights Shape : (784, 300)\n",
            "Biases Shape :  (300,)\n"
          ],
          "name": "stdout"
        }
      ]
    },
    {
      "cell_type": "code",
      "metadata": {
        "id": "PdaBCjW_g09_"
      },
      "source": [
        "# Now When we have seen how to checkout the layers and weights, let's compile the model\n",
        "model.compile(loss = \"sparse_categorical_crossentropy\",\n",
        "              optimizer = 'sgd', \n",
        "              metrics = ['accuracy'])"
      ],
      "execution_count": null,
      "outputs": []
    },
    {
      "cell_type": "code",
      "metadata": {
        "colab": {
          "base_uri": "https://localhost:8080/"
        },
        "id": "MN4xImYujM5q",
        "outputId": "a8cd78ec-db33-4573-a924-c0fe3a6073f8"
      },
      "source": [
        "# Now Let's train the Model\n",
        "# Instead of passing a validation set using the validation_data argument, \n",
        "# you could set validation_split to the ratio of the training set that you want Keras to use for validation. \n",
        "# For example, validation_split=0.1 tells Keras to use the last 10% of the data (before shuffling) for validation.\n",
        "\n",
        "model.fit(X_train, y_train, epochs=30, validation_data=(X_valid, y_valid))"
      ],
      "execution_count": null,
      "outputs": [
        {
          "output_type": "stream",
          "text": [
            "Epoch 1/30\n",
            "1719/1719 [==============================] - 8s 4ms/step - loss: 1.0113 - accuracy: 0.6843 - val_loss: 0.5251 - val_accuracy: 0.8184\n",
            "Epoch 2/30\n",
            "1719/1719 [==============================] - 7s 4ms/step - loss: 0.5073 - accuracy: 0.8241 - val_loss: 0.4444 - val_accuracy: 0.8514\n",
            "Epoch 3/30\n",
            "1719/1719 [==============================] - 7s 4ms/step - loss: 0.4521 - accuracy: 0.8418 - val_loss: 0.4349 - val_accuracy: 0.8460\n",
            "Epoch 4/30\n",
            "1719/1719 [==============================] - 7s 4ms/step - loss: 0.4191 - accuracy: 0.8547 - val_loss: 0.3957 - val_accuracy: 0.8628\n",
            "Epoch 5/30\n",
            "1719/1719 [==============================] - 7s 4ms/step - loss: 0.3948 - accuracy: 0.8593 - val_loss: 0.3814 - val_accuracy: 0.8702\n",
            "Epoch 6/30\n",
            "1719/1719 [==============================] - 7s 4ms/step - loss: 0.3776 - accuracy: 0.8666 - val_loss: 0.3965 - val_accuracy: 0.8620\n",
            "Epoch 7/30\n",
            "1719/1719 [==============================] - 7s 4ms/step - loss: 0.3728 - accuracy: 0.8682 - val_loss: 0.3753 - val_accuracy: 0.8688\n",
            "Epoch 8/30\n",
            "1719/1719 [==============================] - 7s 4ms/step - loss: 0.3562 - accuracy: 0.8746 - val_loss: 0.3528 - val_accuracy: 0.8742\n",
            "Epoch 9/30\n",
            "1719/1719 [==============================] - 7s 4ms/step - loss: 0.3423 - accuracy: 0.8786 - val_loss: 0.3508 - val_accuracy: 0.8790\n",
            "Epoch 10/30\n",
            "1719/1719 [==============================] - 7s 4ms/step - loss: 0.3339 - accuracy: 0.8831 - val_loss: 0.3386 - val_accuracy: 0.8828\n",
            "Epoch 11/30\n",
            "1719/1719 [==============================] - 7s 4ms/step - loss: 0.3207 - accuracy: 0.8843 - val_loss: 0.3431 - val_accuracy: 0.8764\n",
            "Epoch 12/30\n",
            "1719/1719 [==============================] - 7s 4ms/step - loss: 0.3174 - accuracy: 0.8865 - val_loss: 0.3355 - val_accuracy: 0.8802\n",
            "Epoch 13/30\n",
            "1719/1719 [==============================] - 7s 4ms/step - loss: 0.3072 - accuracy: 0.8903 - val_loss: 0.3331 - val_accuracy: 0.8820\n",
            "Epoch 14/30\n",
            "1719/1719 [==============================] - 7s 4ms/step - loss: 0.3057 - accuracy: 0.8906 - val_loss: 0.3164 - val_accuracy: 0.8868\n",
            "Epoch 15/30\n",
            "1719/1719 [==============================] - 7s 4ms/step - loss: 0.2957 - accuracy: 0.8919 - val_loss: 0.3536 - val_accuracy: 0.8690\n",
            "Epoch 16/30\n",
            "1719/1719 [==============================] - 7s 4ms/step - loss: 0.2939 - accuracy: 0.8951 - val_loss: 0.3276 - val_accuracy: 0.8842\n",
            "Epoch 17/30\n",
            "1719/1719 [==============================] - 7s 4ms/step - loss: 0.2822 - accuracy: 0.8986 - val_loss: 0.3124 - val_accuracy: 0.8892\n",
            "Epoch 18/30\n",
            "1719/1719 [==============================] - 7s 4ms/step - loss: 0.2756 - accuracy: 0.9026 - val_loss: 0.3145 - val_accuracy: 0.8868\n",
            "Epoch 19/30\n",
            "1719/1719 [==============================] - 7s 4ms/step - loss: 0.2735 - accuracy: 0.9038 - val_loss: 0.3247 - val_accuracy: 0.8824\n",
            "Epoch 20/30\n",
            "1719/1719 [==============================] - 7s 4ms/step - loss: 0.2657 - accuracy: 0.9067 - val_loss: 0.3126 - val_accuracy: 0.8848\n",
            "Epoch 21/30\n",
            "1719/1719 [==============================] - 7s 4ms/step - loss: 0.2626 - accuracy: 0.9061 - val_loss: 0.3009 - val_accuracy: 0.8914\n",
            "Epoch 22/30\n",
            "1719/1719 [==============================] - 7s 4ms/step - loss: 0.2625 - accuracy: 0.9047 - val_loss: 0.3133 - val_accuracy: 0.8846\n",
            "Epoch 23/30\n",
            "1719/1719 [==============================] - 7s 4ms/step - loss: 0.2492 - accuracy: 0.9094 - val_loss: 0.3064 - val_accuracy: 0.8884\n",
            "Epoch 24/30\n",
            "1719/1719 [==============================] - 7s 4ms/step - loss: 0.2516 - accuracy: 0.9089 - val_loss: 0.3017 - val_accuracy: 0.8906\n",
            "Epoch 25/30\n",
            "1719/1719 [==============================] - 7s 4ms/step - loss: 0.2432 - accuracy: 0.9142 - val_loss: 0.2923 - val_accuracy: 0.8916\n",
            "Epoch 26/30\n",
            "1719/1719 [==============================] - 7s 4ms/step - loss: 0.2400 - accuracy: 0.9138 - val_loss: 0.3296 - val_accuracy: 0.8744\n",
            "Epoch 27/30\n",
            "1719/1719 [==============================] - 7s 4ms/step - loss: 0.2352 - accuracy: 0.9147 - val_loss: 0.2972 - val_accuracy: 0.8932\n",
            "Epoch 28/30\n",
            "1719/1719 [==============================] - 7s 4ms/step - loss: 0.2316 - accuracy: 0.9160 - val_loss: 0.3000 - val_accuracy: 0.8914\n",
            "Epoch 29/30\n",
            "1719/1719 [==============================] - 7s 4ms/step - loss: 0.2272 - accuracy: 0.9185 - val_loss: 0.2887 - val_accuracy: 0.8944\n",
            "Epoch 30/30\n",
            "1719/1719 [==============================] - 7s 4ms/step - loss: 0.2225 - accuracy: 0.9200 - val_loss: 0.3146 - val_accuracy: 0.8868\n"
          ],
          "name": "stdout"
        },
        {
          "output_type": "execute_result",
          "data": {
            "text/plain": [
              "<tensorflow.python.keras.callbacks.History at 0x7f1b0ea149d0>"
            ]
          },
          "metadata": {
            "tags": []
          },
          "execution_count": 38
        }
      ]
    },
    {
      "cell_type": "code",
      "metadata": {
        "colab": {
          "base_uri": "https://localhost:8080/"
        },
        "id": "3vrrOtTIl-Xz",
        "outputId": "4447ad2e-ceb6-40d9-ae29-9888df320537"
      },
      "source": [
        "print(model.history.params)\n",
        "print(model.history.epoch)\n",
        "print(model.history.history)"
      ],
      "execution_count": null,
      "outputs": [
        {
          "output_type": "stream",
          "text": [
            "{'verbose': 1, 'epochs': 30, 'steps': 1719}\n",
            "[0, 1, 2, 3, 4, 5, 6, 7, 8, 9, 10, 11, 12, 13, 14, 15, 16, 17, 18, 19, 20, 21, 22, 23, 24, 25, 26, 27, 28, 29]\n",
            "{'loss': [0.7242358922958374, 0.4904194176197052, 0.4428062438964844, 0.41547223925590515, 0.3943764269351959, 0.37788647413253784, 0.3647412061691284, 0.3526511490345001, 0.3424462378025055, 0.3328181803226471, 0.32302069664001465, 0.317249596118927, 0.3088506758213043, 0.30143824219703674, 0.2946840524673462, 0.2898631989955902, 0.2835744023323059, 0.27782049775123596, 0.2724474370479584, 0.26734232902526855, 0.26286405324935913, 0.2579507529735565, 0.2534605860710144, 0.24759380519390106, 0.24451737105846405, 0.24024620652198792, 0.23635780811309814, 0.2321786880493164, 0.22905051708221436, 0.22429083287715912], 'accuracy': [0.7648181915283203, 0.8309636116027832, 0.844036340713501, 0.8553454279899597, 0.8601636290550232, 0.8664000034332275, 0.8706363439559937, 0.8756181597709656, 0.8778908848762512, 0.8827272653579712, 0.8845636248588562, 0.8861818313598633, 0.8899999856948853, 0.8919636607170105, 0.893781840801239, 0.8956727385520935, 0.8981636166572571, 0.9010182023048401, 0.9016909003257751, 0.9046727418899536, 0.9061999917030334, 0.9055818319320679, 0.9084727168083191, 0.9106000065803528, 0.9124000072479248, 0.9139454364776611, 0.9154363870620728, 0.9161454439163208, 0.9170363545417786, 0.9193454384803772], 'val_loss': [0.5250803828239441, 0.4444265067577362, 0.4349431097507477, 0.39571699500083923, 0.3813936114311218, 0.39647650718688965, 0.3752555549144745, 0.35277044773101807, 0.3507803976535797, 0.3385954201221466, 0.34313327074050903, 0.3354644477367401, 0.33309680223464966, 0.31642746925354004, 0.35364922881126404, 0.32763877511024475, 0.3123975694179535, 0.31451329588890076, 0.32473301887512207, 0.312641441822052, 0.3008997440338135, 0.313324898481369, 0.3063906133174896, 0.3017177879810333, 0.29229432344436646, 0.3296428918838501, 0.29724955558776855, 0.300037682056427, 0.28867456316947937, 0.3146193027496338], 'val_accuracy': [0.8184000253677368, 0.8514000177383423, 0.8460000157356262, 0.8628000020980835, 0.870199978351593, 0.8619999885559082, 0.8687999844551086, 0.8741999864578247, 0.8790000081062317, 0.8827999830245972, 0.8763999938964844, 0.8802000284194946, 0.8820000290870667, 0.8867999911308289, 0.8690000176429749, 0.8841999769210815, 0.88919997215271, 0.8867999911308289, 0.8823999762535095, 0.8848000168800354, 0.8913999795913696, 0.8845999836921692, 0.8884000182151794, 0.8906000256538391, 0.8916000127792358, 0.8744000196456909, 0.8931999802589417, 0.8913999795913696, 0.8944000005722046, 0.8867999911308289]}\n"
          ],
          "name": "stdout"
        }
      ]
    },
    {
      "cell_type": "code",
      "metadata": {
        "colab": {
          "base_uri": "https://localhost:8080/",
          "height": 324
        },
        "id": "_BiuPEiGkUrY",
        "outputId": "199e2f3f-c7d2-4466-ac4a-7d538f74ea69"
      },
      "source": [
        "import pandas as pd\n",
        "import matplotlib.pyplot as plt\n",
        "\n",
        "pd.DataFrame(model.history.history).plot(figsize=(8, 5))\n",
        "plt.grid(True)\n",
        "plt.gca().set_ylim(0, 1) # set the vertical range to [0-1]\n",
        "plt.show()\n"
      ],
      "execution_count": null,
      "outputs": [
        {
          "output_type": "display_data",
          "data": {
            "image/png": "[encoded data removed]",
            "text/plain": [
              "<Figure size 576x360 with 1 Axes>"
            ]
          },
          "metadata": {
            "tags": [],
            "needs_background": "light"
          }
        }
      ]
    },
    {
      "cell_type": "code",
      "metadata": {
        "id": "vzTZW-HimhSx"
      },
      "source": [
        "# Important\n",
        "# If you are not satisfied with the performance of your model, you should go back and \n",
        "# tune the hyperparameters. The first one to check is the learning rate. If that doesn’t help, \n",
        "# try another optimizer (and always retune the learning rate after changing any hyperparameter).\n",
        "# If the performance is still not great, then try tuning model hyperparameters such as the number of layers, \n",
        "# the number of neurons per layer, and the types of activation functions to use for each hidden layer. \n",
        "# You can also try tuning other hyperparameters, such as the batch size (it can be set in the fit() \n",
        "# method using the batch_size argument, which defaults to 32). "
      ],
      "execution_count": null,
      "outputs": []
    },
    {
      "cell_type": "code",
      "metadata": {
        "colab": {
          "base_uri": "https://localhost:8080/"
        },
        "id": "TZUm5RqlnuFq",
        "outputId": "6658f8d0-8245-49da-f676-3365a6075913"
      },
      "source": [
        "# Now Let's evaluate the test dataset\n",
        "model.evaluate(X_test, y_test)"
      ],
      "execution_count": null,
      "outputs": [
        {
          "output_type": "stream",
          "text": [
            "313/313 [==============================] - 1s 2ms/step - loss: 0.3459 - accuracy: 0.8797\n"
          ],
          "name": "stdout"
        },
        {
          "output_type": "execute_result",
          "data": {
            "text/plain": [
              "[0.3458966910839081, 0.8797000050544739]"
            ]
          },
          "metadata": {
            "tags": []
          },
          "execution_count": 47
        }
      ]
    },
    {
      "cell_type": "code",
      "metadata": {
        "colab": {
          "base_uri": "https://localhost:8080/"
        },
        "id": "oXoU0cWLn4p9",
        "outputId": "f013e3c5-01c7-4dcd-b53c-ec38666ed9e4"
      },
      "source": [
        "# Now Let's do some prediction \n",
        "X_test_new = X_test[300:303]\n",
        "y_proba = model.predict(X_test_new)\n",
        "y_clases = model.predict_classes(X_test_new)\n",
        "print(y_proba.round(2))\n",
        "print(\"Predicted Classes : \", y_clases)\n",
        "print(\"Actual Classes : \", y_test[300:303])"
      ],
      "execution_count": null,
      "outputs": [
        {
          "output_type": "stream",
          "text": [
            "[[0.   0.   0.   0.99 0.   0.   0.   0.   0.   0.  ]\n",
            " [0.   0.   0.   0.93 0.06 0.   0.   0.   0.   0.  ]\n",
            " [0.   0.   0.07 0.   0.   0.   0.92 0.   0.   0.  ]]\n",
            "Predicted Classes :  [3 3 6]\n",
            "Actual Classes :  [3 3 6]\n"
          ],
          "name": "stdout"
        },
        {
          "output_type": "stream",
          "text": [
            "/usr/local/lib/python3.7/dist-packages/tensorflow/python/keras/engine/sequential.py:450: UserWarning: `model.predict_classes()` is deprecated and will be removed after 2021-01-01. Please use instead:* `np.argmax(model.predict(x), axis=-1)`,   if your model does multi-class classification   (e.g. if it uses a `softmax` last-layer activation).* `(model.predict(x) > 0.5).astype(\"int32\")`,   if your model does binary classification   (e.g. if it uses a `sigmoid` last-layer activation).\n",
            "  warnings.warn('`model.predict_classes()` is deprecated and '\n"
          ],
          "name": "stderr"
        }
      ]
    },
    {
      "cell_type": "markdown",
      "metadata": {
        "id": "9tcl-ZdkrgRm"
      },
      "source": [
        "## Building a Regression MLP Using the Sequential API"
      ]
    },
    {
      "cell_type": "code",
      "metadata": {
        "id": "6k46QSyspL0i"
      },
      "source": [
        "# Here We will be using simple california housing dataset\n",
        "from sklearn.datasets import fetch_california_housing\n",
        "from sklearn.model_selection import train_test_split\n",
        "from sklearn.preprocessing import StandardScaler"
      ],
      "execution_count": null,
      "outputs": []
    },
    {
      "cell_type": "code",
      "metadata": {
        "id": "p3Sq3HczsBM4"
      },
      "source": [
        "housing_data = fetch_california_housing()"
      ],
      "execution_count": null,
      "outputs": []
    },
    {
      "cell_type": "code",
      "metadata": {
        "colab": {
          "base_uri": "https://localhost:8080/"
        },
        "id": "mO16MTNqsFTj",
        "outputId": "66da15d7-3da5-430b-9c43-02285ea4f721"
      },
      "source": [
        "# Lets Fetch the data\n",
        "data = housing_data.data\n",
        "target = housing_data.target\n",
        "print(data.shape)\n",
        "print(target.shape)"
      ],
      "execution_count": null,
      "outputs": [
        {
          "output_type": "stream",
          "text": [
            "(20640, 8)\n",
            "(20640,)\n"
          ],
          "name": "stdout"
        }
      ]
    },
    {
      "cell_type": "code",
      "metadata": {
        "colab": {
          "base_uri": "https://localhost:8080/"
        },
        "id": "vXVaUObOsbbL",
        "outputId": "8cd054f4-6614-48e7-f3ae-de7a8df291d6"
      },
      "source": [
        "# Let's Split the data into train, test and validation datasets\n",
        "X_train, X_test, y_train, y_test = train_test_split(data, target)\n",
        "X_train, X_valid, y_train, y_valid = train_test_split(X_train, y_train)\n",
        "\n",
        "print(\"Training Data Shape : \", X_train.shape, y_train.shape)\n",
        "print(\"Testing Data Shape : \", X_test.shape, y_test.shape)\n",
        "print(\"Validataion Data Shape : \",X_valid.shape, y_valid.shape)"
      ],
      "execution_count": null,
      "outputs": [
        {
          "output_type": "stream",
          "text": [
            "Training Data Shape :  (11610, 8) (11610,)\n",
            "Testing Data Shape :  (5160, 8) (5160,)\n",
            "Validataion Data Shape :  (3870, 8) (3870,)\n"
          ],
          "name": "stdout"
        }
      ]
    },
    {
      "cell_type": "code",
      "metadata": {
        "id": "zzj4_I4asVN_"
      },
      "source": [
        "#Using the Scaling on the data set\n",
        "scaler = StandardScaler()\n",
        "X_train = scaler.fit_transform(X_train)\n",
        "X_test = scaler.transform(X_test)\n",
        "X_valid = scaler.transform(X_valid)"
      ],
      "execution_count": null,
      "outputs": []
    },
    {
      "cell_type": "code",
      "metadata": {
        "colab": {
          "base_uri": "https://localhost:8080/"
        },
        "id": "FK0FynWwyPIY",
        "outputId": "3c0d1252-4ea3-47c1-df56-89394c2c5aff"
      },
      "source": [
        "X_train.shape[1:]"
      ],
      "execution_count": null,
      "outputs": [
        {
          "output_type": "execute_result",
          "data": {
            "text/plain": [
              "(8,)"
            ]
          },
          "metadata": {
            "tags": []
          },
          "execution_count": 83
        }
      ]
    },
    {
      "cell_type": "code",
      "metadata": {
        "id": "Pu_NVUM-tvFt"
      },
      "source": [
        "# Now Lets build the model\n",
        "model = keras.models.Sequential()\n",
        "model.add(keras.layers.Dense(units = 30, activation = 'relu', input_shape = X_train.shape[1:] ))\n",
        "model.add(keras.layers.Dense(units = 1))"
      ],
      "execution_count": null,
      "outputs": []
    },
    {
      "cell_type": "code",
      "metadata": {
        "colab": {
          "base_uri": "https://localhost:8080/"
        },
        "id": "3yNOYbIDyq2p",
        "outputId": "4ca501c5-51cf-4b2b-9ce2-e8fc9bb73066"
      },
      "source": [
        "model.compile( loss = \"mean_squared_error\", optimizer = 'sgd')\n",
        "model.fit(X_train, y_train, epochs = 30, validation_data=(X_valid, y_valid))"
      ],
      "execution_count": null,
      "outputs": [
        {
          "output_type": "stream",
          "text": [
            "Epoch 1/30\n",
            "363/363 [==============================] - 1s 2ms/step - loss: 1.1230 - val_loss: 0.8978\n",
            "Epoch 2/30\n",
            "363/363 [==============================] - 1s 1ms/step - loss: 0.5513 - val_loss: 0.4850\n",
            "Epoch 3/30\n",
            "363/363 [==============================] - 1s 1ms/step - loss: 0.4502 - val_loss: 0.4648\n",
            "Epoch 4/30\n",
            "363/363 [==============================] - 1s 1ms/step - loss: 0.4636 - val_loss: 0.4272\n",
            "Epoch 5/30\n",
            "363/363 [==============================] - 1s 1ms/step - loss: 0.4392 - val_loss: 0.4154\n",
            "Epoch 6/30\n",
            "363/363 [==============================] - 1s 1ms/step - loss: 0.3943 - val_loss: 0.4067\n",
            "Epoch 7/30\n",
            "363/363 [==============================] - 0s 1ms/step - loss: 0.3938 - val_loss: 0.4068\n",
            "Epoch 8/30\n",
            "363/363 [==============================] - 1s 1ms/step - loss: 0.3852 - val_loss: 0.3986\n",
            "Epoch 9/30\n",
            "363/363 [==============================] - 1s 1ms/step - loss: 0.3961 - val_loss: 0.3997\n",
            "Epoch 10/30\n",
            "363/363 [==============================] - 0s 1ms/step - loss: 0.3892 - val_loss: 0.3914\n",
            "Epoch 11/30\n",
            "363/363 [==============================] - 1s 1ms/step - loss: 0.3959 - val_loss: 0.3915\n",
            "Epoch 12/30\n",
            "363/363 [==============================] - 1s 1ms/step - loss: 0.3838 - val_loss: 0.3939\n",
            "Epoch 13/30\n",
            "363/363 [==============================] - 1s 1ms/step - loss: 0.4258 - val_loss: 0.3845\n",
            "Epoch 14/30\n",
            "363/363 [==============================] - 0s 1ms/step - loss: 0.3785 - val_loss: 0.3768\n",
            "Epoch 15/30\n",
            "363/363 [==============================] - 1s 1ms/step - loss: 0.3946 - val_loss: 0.4424\n",
            "Epoch 16/30\n",
            "363/363 [==============================] - 1s 1ms/step - loss: 0.5138 - val_loss: 0.3887\n",
            "Epoch 17/30\n",
            "363/363 [==============================] - 1s 1ms/step - loss: 0.3893 - val_loss: 0.3815\n",
            "Epoch 18/30\n",
            "363/363 [==============================] - 1s 1ms/step - loss: 0.3679 - val_loss: 0.3763\n",
            "Epoch 19/30\n",
            "363/363 [==============================] - 1s 1ms/step - loss: 0.3804 - val_loss: 0.3710\n",
            "Epoch 20/30\n",
            "363/363 [==============================] - 0s 1ms/step - loss: 0.3753 - val_loss: 0.3740\n",
            "Epoch 21/30\n",
            "363/363 [==============================] - 1s 1ms/step - loss: 0.3705 - val_loss: 0.3694\n",
            "Epoch 22/30\n",
            "363/363 [==============================] - 1s 1ms/step - loss: 0.3600 - val_loss: 0.3692\n",
            "Epoch 23/30\n",
            "363/363 [==============================] - 1s 1ms/step - loss: 0.3581 - val_loss: 0.3621\n",
            "Epoch 24/30\n",
            "363/363 [==============================] - 1s 1ms/step - loss: 0.3600 - val_loss: 0.3586\n",
            "Epoch 25/30\n",
            "363/363 [==============================] - 1s 1ms/step - loss: 0.3536 - val_loss: 0.3584\n",
            "Epoch 26/30\n",
            "363/363 [==============================] - 0s 1ms/step - loss: 0.3493 - val_loss: 0.3602\n",
            "Epoch 27/30\n",
            "363/363 [==============================] - 1s 1ms/step - loss: 0.3568 - val_loss: 0.3649\n",
            "Epoch 28/30\n",
            "363/363 [==============================] - 1s 1ms/step - loss: 0.3452 - val_loss: 0.3562\n",
            "Epoch 29/30\n",
            "363/363 [==============================] - 1s 1ms/step - loss: 0.3543 - val_loss: 0.3538\n",
            "Epoch 30/30\n",
            "363/363 [==============================] - 1s 1ms/step - loss: 0.3487 - val_loss: 0.3573\n"
          ],
          "name": "stdout"
        },
        {
          "output_type": "execute_result",
          "data": {
            "text/plain": [
              "<tensorflow.python.keras.callbacks.History at 0x7f1afe319510>"
            ]
          },
          "metadata": {
            "tags": []
          },
          "execution_count": 94
        }
      ]
    },
    {
      "cell_type": "code",
      "metadata": {
        "colab": {
          "base_uri": "https://localhost:8080/"
        },
        "id": "aMdEo9apzVNZ",
        "outputId": "4c34010c-4bfe-4acd-ba74-7b01a6bcc5dc"
      },
      "source": [
        "# Now Let's Evaluate the model Performance\n",
        "model.evaluate(X_test, y_test)"
      ],
      "execution_count": null,
      "outputs": [
        {
          "output_type": "stream",
          "text": [
            "162/162 [==============================] - 0s 825us/step - loss: 0.3458\n"
          ],
          "name": "stdout"
        },
        {
          "output_type": "execute_result",
          "data": {
            "text/plain": [
              "0.34579288959503174"
            ]
          },
          "metadata": {
            "tags": []
          },
          "execution_count": 95
        }
      ]
    }
  ]
}