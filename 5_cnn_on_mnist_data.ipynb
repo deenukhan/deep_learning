{
  "nbformat": 4,
  "nbformat_minor": 0,
  "metadata": {
    "colab": {
      "name": "5 cnn_on_mnist_data.ipynb",
      "provenance": [],
      "collapsed_sections": [],
      "authorship_tag": "ABX9TyNuskJY16aWn7WF8m0EsGbJ",
      "include_colab_link": true
    },
    "kernelspec": {
      "name": "python3",
      "display_name": "Python 3"
    },
    "language_info": {
      "name": "python"
    },
    "accelerator": "GPU"
  },
  "cells": [
    {
      "cell_type": "markdown",
      "metadata": {
        "id": "view-in-github",
        "colab_type": "text"
      },
      "source": [
        "<a href=\"https://colab.research.google.com/github/deenukhan/deep_learning/blob/main/5_cnn_on_mnist_data.ipynb\" target=\"_parent\"><img src=\"https://colab.research.google.com/assets/colab-badge.svg\" alt=\"Open In Colab\"/></a>"
      ]
    },
    {
      "cell_type": "code",
      "metadata": {
        "id": "XX5BVPmy-BhB"
      },
      "source": [
        "# This Notebook is inspired the book Hands-On Machine Learning with Scikit-Learn, Keras, and TensorFlow\n",
        "# In this Note we will be building Build your own CNN from scratch and try to achieve the highest possible accuracy on MNIST."
      ],
      "execution_count": 1,
      "outputs": []
    },
    {
      "cell_type": "code",
      "metadata": {
        "id": "T73xqDxt-Fue"
      },
      "source": [
        "# Importing the libraries\n",
        "import tensorflow as tf\n",
        "from tensorflow import keras\n",
        "import numpy as np\n",
        "# import tensorflow_datasets as tfds"
      ],
      "execution_count": 1,
      "outputs": []
    },
    {
      "cell_type": "code",
      "metadata": {
        "colab": {
          "base_uri": "https://localhost:8080/"
        },
        "id": "5r97eRmQ_dwJ",
        "outputId": "418bfaa7-76fc-4324-c681-9a3f9e6fcf2f"
      },
      "source": [
        "# mnist, info = tfds.load(\"mnist\", as_supervised=True, with_info=True)\n",
        "# mnist_size = info.splits['train'].num_examples\n",
        "(X_train, y_train), (X_test, y_test) = keras.datasets.mnist.load_data()\n",
        "\n",
        "X_train = X_train[..., np.newaxis]\n",
        "X_test = X_test[..., np.newaxis]\n",
        "\n",
        "# Let's Normalize the data\n",
        "X_train = X_train/255\n",
        "X_test = X_test/255\n",
        "\n",
        "print(\"Training Data Shape : \", X_train.shape, y_train.shape)\n",
        "print(\"Testing Data Shape : \",X_test.shape, y_test.shape)"
      ],
      "execution_count": 2,
      "outputs": [
        {
          "output_type": "stream",
          "text": [
            "Downloading data from https://storage.googleapis.com/tensorflow/tf-keras-datasets/mnist.npz\n",
            "11493376/11490434 [==============================] - 0s 0us/step\n",
            "Training Data Shape :  (60000, 28, 28, 1) (60000,)\n",
            "Testing Data Shape :  (10000, 28, 28, 1) (10000,)\n"
          ],
          "name": "stdout"
        }
      ]
    },
    {
      "cell_type": "code",
      "metadata": {
        "id": "UCQWdeOVAJaq"
      },
      "source": [
        "keras.backend.clear_session()\n",
        "tf.random.set_seed(34)\n",
        "np.random.seed(34)\n",
        "\n",
        "# model = keras.models.Sequential()\n",
        "# model.add(keras.layers.Conv2D(32, kernel_size = 3, padding='same', activation='relu'))\n",
        "# model.add(keras.layers.Conv2D(64, kernel_size=3, padding = 'same', activation ='relu'))\n",
        "# model.add(keras.layers.MaxPool2D(pool_size=(2,2)))\n",
        "# model.add(keras.layers.Flatten())\n",
        "# model.add(keras.layers.Dropout(0.2))\n",
        "# model.add(keras.layers.Dense(128, activation ='relu', ))\n",
        "# model.add(keras.layers.Dropout(0.5))\n",
        "# model.add(keras.layers.Dense(10, activation = 'softmax'))\n",
        "\n",
        "model = keras.models.Sequential([\n",
        "    keras.layers.Conv2D(32, kernel_size=3, padding=\"same\", activation=\"relu\"),\n",
        "    keras.layers.Conv2D(64, kernel_size=3, padding=\"same\", activation=\"relu\"),\n",
        "    keras.layers.MaxPool2D(),\n",
        "    keras.layers.Flatten(),\n",
        "    keras.layers.Dropout(0.25),\n",
        "    keras.layers.Dense(128, activation=\"relu\"),\n",
        "    keras.layers.Dropout(0.5),\n",
        "    keras.layers.Dense(10, activation=\"softmax\")\n",
        "])"
      ],
      "execution_count": 4,
      "outputs": []
    },
    {
      "cell_type": "code",
      "metadata": {
        "colab": {
          "base_uri": "https://localhost:8080/"
        },
        "id": "f9Irg4_yrkln",
        "outputId": "5532c8cd-863e-4174-ed9b-c371190b831c"
      },
      "source": [
        "from datetime import datetime\n",
        "model.compile( optimizer = 'nadam', loss='sparse_categorical_crossentropy', metrics=['accuracy'])\n",
        "print(\"Training Started with CPU at : \", datetime.now())\n",
        "model.fit( X_train, y_train, validation_split=0.2, epochs=10 )\n",
        "print(\"Training Finished with CPU at : \", datetime.now())\n",
        "\n",
        "# It took Around 30 Minutes to complete the training with Colab CPU Environment\n",
        "# Now Let's Try with GPU Environment"
      ],
      "execution_count": 40,
      "outputs": [
        {
          "output_type": "stream",
          "text": [
            "Training Started with CPU at :  2021-04-26 19:58:06.952864\n",
            "Epoch 1/10\n",
            "1500/1500 [==============================] - 184s 122ms/step - loss: 0.4308 - accuracy: 0.8625 - val_loss: 0.0562 - val_accuracy: 0.9833\n",
            "Epoch 2/10\n",
            "1500/1500 [==============================] - 183s 122ms/step - loss: 0.1008 - accuracy: 0.9691 - val_loss: 0.0463 - val_accuracy: 0.9864\n",
            "Epoch 3/10\n",
            "1500/1500 [==============================] - 182s 121ms/step - loss: 0.0669 - accuracy: 0.9793 - val_loss: 0.0387 - val_accuracy: 0.9884\n",
            "Epoch 4/10\n",
            "1500/1500 [==============================] - 182s 122ms/step - loss: 0.0588 - accuracy: 0.9811 - val_loss: 0.0384 - val_accuracy: 0.9895\n",
            "Epoch 5/10\n",
            "1500/1500 [==============================] - 181s 121ms/step - loss: 0.0447 - accuracy: 0.9855 - val_loss: 0.0421 - val_accuracy: 0.9883\n",
            "Epoch 6/10\n",
            "1500/1500 [==============================] - 180s 120ms/step - loss: 0.0405 - accuracy: 0.9869 - val_loss: 0.0420 - val_accuracy: 0.9895\n",
            "Epoch 7/10\n",
            "1500/1500 [==============================] - 180s 120ms/step - loss: 0.0388 - accuracy: 0.9885 - val_loss: 0.0400 - val_accuracy: 0.9902\n",
            "Epoch 8/10\n",
            "1500/1500 [==============================] - 181s 121ms/step - loss: 0.0335 - accuracy: 0.9891 - val_loss: 0.0378 - val_accuracy: 0.9893\n",
            "Epoch 9/10\n",
            "1500/1500 [==============================] - 181s 121ms/step - loss: 0.0260 - accuracy: 0.9915 - val_loss: 0.0394 - val_accuracy: 0.9902\n",
            "Epoch 10/10\n",
            "1500/1500 [==============================] - 180s 120ms/step - loss: 0.0292 - accuracy: 0.9901 - val_loss: 0.0390 - val_accuracy: 0.9907\n",
            "Training Finished with CPU at :  2021-04-26 20:28:21.862061\n"
          ],
          "name": "stdout"
        }
      ]
    },
    {
      "cell_type": "code",
      "metadata": {
        "colab": {
          "base_uri": "https://localhost:8080/"
        },
        "id": "wYmQIO2JtUOy",
        "outputId": "193b17c1-bfd5-4559-91f8-c873aff1a6be"
      },
      "source": [
        "from datetime import datetime\n",
        "model.compile( optimizer = 'nadam', loss='sparse_categorical_crossentropy', metrics=['accuracy'])\n",
        "print(\"Training Started with GPU at : \", datetime.now())\n",
        "model.fit( X_train, y_train, validation_split=0.2, epochs=10 )\n",
        "print(\"Training Finished with GPU at : \", datetime.now())\n",
        "\n",
        "# It took Around 2 Minutes to complete the training with Colab Free GPU Environment\n",
        "# This is the huge differnce \n",
        "# We also got very good accuracy of 99.12 on Validation data let's try the same on test data"
      ],
      "execution_count": 6,
      "outputs": [
        {
          "output_type": "stream",
          "text": [
            "Training Started with GPU at :  2021-04-26 20:38:12.579990\n",
            "Epoch 1/10\n",
            "1500/1500 [==============================] - 17s 11ms/step - loss: 0.3963 - accuracy: 0.8753 - val_loss: 0.0547 - val_accuracy: 0.9848\n",
            "Epoch 2/10\n",
            "1500/1500 [==============================] - 16s 11ms/step - loss: 0.0921 - accuracy: 0.9724 - val_loss: 0.0442 - val_accuracy: 0.9877\n",
            "Epoch 3/10\n",
            "1500/1500 [==============================] - 16s 11ms/step - loss: 0.0613 - accuracy: 0.9810 - val_loss: 0.0399 - val_accuracy: 0.9881\n",
            "Epoch 4/10\n",
            "1500/1500 [==============================] - 16s 11ms/step - loss: 0.0554 - accuracy: 0.9828 - val_loss: 0.0376 - val_accuracy: 0.9892\n",
            "Epoch 5/10\n",
            "1500/1500 [==============================] - 16s 10ms/step - loss: 0.0449 - accuracy: 0.9864 - val_loss: 0.0358 - val_accuracy: 0.9893\n",
            "Epoch 6/10\n",
            "1500/1500 [==============================] - 16s 11ms/step - loss: 0.0369 - accuracy: 0.9879 - val_loss: 0.0402 - val_accuracy: 0.9891\n",
            "Epoch 7/10\n",
            "1500/1500 [==============================] - 16s 11ms/step - loss: 0.0351 - accuracy: 0.9894 - val_loss: 0.0351 - val_accuracy: 0.9908\n",
            "Epoch 8/10\n",
            "1500/1500 [==============================] - 16s 11ms/step - loss: 0.0313 - accuracy: 0.9893 - val_loss: 0.0364 - val_accuracy: 0.9907\n",
            "Epoch 9/10\n",
            "1500/1500 [==============================] - 16s 11ms/step - loss: 0.0259 - accuracy: 0.9916 - val_loss: 0.0394 - val_accuracy: 0.9903\n",
            "Epoch 10/10\n",
            "1500/1500 [==============================] - 16s 11ms/step - loss: 0.0261 - accuracy: 0.9917 - val_loss: 0.0373 - val_accuracy: 0.9912\n",
            "Training Finished with GPU at :  2021-04-26 20:40:52.163669\n"
          ],
          "name": "stdout"
        }
      ]
    },
    {
      "cell_type": "code",
      "metadata": {
        "colab": {
          "base_uri": "https://localhost:8080/"
        },
        "id": "e8aDKlfp5asx",
        "outputId": "65523b79-e4c2-4227-c103-205c4ffe623f"
      },
      "source": [
        "# Let's Evalutate the Model on Testing data\n",
        "model.evaluate(X_test, y_test)\n",
        "\n",
        "# Model has performed very well on the Testing data as well"
      ],
      "execution_count": 7,
      "outputs": [
        {
          "output_type": "stream",
          "text": [
            "313/313 [==============================] - 2s 5ms/step - loss: 0.0336 - accuracy: 0.9905\n"
          ],
          "name": "stdout"
        },
        {
          "output_type": "execute_result",
          "data": {
            "text/plain": [
              "[0.03355120122432709, 0.9904999732971191]"
            ]
          },
          "metadata": {
            "tags": []
          },
          "execution_count": 7
        }
      ]
    },
    {
      "cell_type": "code",
      "metadata": {
        "id": "0gbOj0Jp6527"
      },
      "source": [
        ""
      ],
      "execution_count": null,
      "outputs": []
    }
  ]
}