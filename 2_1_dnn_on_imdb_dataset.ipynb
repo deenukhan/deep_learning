{
  "nbformat": 4,
  "nbformat_minor": 0,
  "metadata": {
    "colab": {
      "name": "2.1 dnn_on_imdb_dataset.ipynb",
      "provenance": [],
      "collapsed_sections": [],
      "authorship_tag": "ABX9TyNxmqMVBMqV7k64N2Au1SIJ",
      "include_colab_link": true
    },
    "kernelspec": {
      "name": "python3",
      "display_name": "Python 3"
    },
    "language_info": {
      "name": "python"
    }
  },
  "cells": [
    {
      "cell_type": "markdown",
      "metadata": {
        "id": "view-in-github",
        "colab_type": "text"
      },
      "source": [
        "<a href=\"https://colab.research.google.com/github/deenukhan/deep_learning/blob/main/2_1_dnn_on_imdb_dataset.ipynb\" target=\"_parent\"><img src=\"https://colab.research.google.com/assets/colab-badge.svg\" alt=\"Open In Colab\"/></a>"
      ]
    },
    {
      "cell_type": "markdown",
      "metadata": {
        "id": "vttiEkI-Kfv_"
      },
      "source": [
        "## **Sentiment analysis**\n",
        "\n",
        "This notebook trains a sentiment analysis model to classify movie reviews as positive or negative, based on the text of the review. This is an example of binary—or two-class—classification, an important and widely applicable kind of machine learning problem\n",
        "\n",
        "We'll use the Large Movie Review Dataset that contains the text of 50,000 movie reviews from the Internet Movie Database. These are split into 25,000 reviews for training and 25,000 reviews for testing. The training and testing sets are balanced, meaning they contain an equal number of positive and negative reviews."
      ]
    },
    {
      "cell_type": "code",
      "metadata": {
        "id": "RU4XpNO4Jakk"
      },
      "source": [
        "# This Notebook is inspired the https://www.tensorflow.org/tutorials/keras/text_classification\n",
        "\n",
        "import os\n",
        "import re\n",
        "import string\n",
        "import shutil\n",
        "import numpy as np\n",
        "import tensorflow as tf\n",
        "from tensorflow import keras\n",
        "import matplotlib.pyplot as plt"
      ],
      "execution_count": 84,
      "outputs": []
    },
    {
      "cell_type": "code",
      "metadata": {
        "id": "t1i32pQJKMfQ"
      },
      "source": [
        "# # Let's Download the Dataset\n",
        "url = \"https://ai.stanford.edu/~amaas/data/sentiment/aclImdb_v1.tar.gz\"\n",
        "dataset = keras.utils.get_file('aclImdb_v1', url, untar=True, cache_dir='/content/', cache_subdir='')\n",
        "dataset_dir = os.path.join(os.path.dirname(dataset), 'aclImdb')"
      ],
      "execution_count": 5,
      "outputs": []
    },
    {
      "cell_type": "code",
      "metadata": {
        "colab": {
          "base_uri": "https://localhost:8080/"
        },
        "id": "3J6JMv4JNL2V",
        "outputId": "0df45b1a-50ca-419d-d000-e4633cf2cafe"
      },
      "source": [
        "os.listdir(dataset_dir)"
      ],
      "execution_count": 6,
      "outputs": [
        {
          "output_type": "execute_result",
          "data": {
            "text/plain": [
              "['README', 'imdbEr.txt', 'test', 'imdb.vocab', 'train']"
            ]
          },
          "metadata": {
            "tags": []
          },
          "execution_count": 6
        }
      ]
    },
    {
      "cell_type": "markdown",
      "metadata": {
        "id": "9VCljGoON_X1"
      },
      "source": [
        "### Load the dataset"
      ]
    },
    {
      "cell_type": "code",
      "metadata": {
        "id": "cAYaMpL0Np5O"
      },
      "source": [
        "# Next, you will load the data off disk and prepare it into a format suitable for training. To do so, \n",
        "# you will use the helpful text_dataset_from_directory utility, which expects a directory structure as follows.\n",
        "\n",
        "# main_directory/\n",
        "# ...class_a/\n",
        "# ......a_text_1.txt\n",
        "# ......a_text_2.txt\n",
        "# ...class_b/\n",
        "# ......b_text_1.txt\n",
        "# ......b_text_2.txt\n",
        "\n",
        "# First we need to remove unsup folder accoring to our structure that we need\n",
        "\n",
        "shutil.rmtree(os.path.join(dataset_dir, 'train/unsup'))"
      ],
      "execution_count": 9,
      "outputs": []
    },
    {
      "cell_type": "code",
      "metadata": {
        "colab": {
          "base_uri": "https://localhost:8080/"
        },
        "id": "j5um2a8fO0aN",
        "outputId": "4dadd6bc-026c-42a5-9c1d-6be23ff2034f"
      },
      "source": [
        "batch_size = 32\n",
        "seed = 54\n",
        "\n",
        "raw_train_ds = keras.preprocessing.text_dataset_from_directory(\n",
        "    \"/content/aclImdb/train\",\n",
        "    batch_size = batch_size,\n",
        "    validation_split = 0.2,\n",
        "    subset='training', seed = seed\n",
        ")"
      ],
      "execution_count": 88,
      "outputs": [
        {
          "output_type": "stream",
          "text": [
            "Found 25000 files belonging to 2 classes.\n",
            "Using 20000 files for training.\n"
          ],
          "name": "stdout"
        }
      ]
    },
    {
      "cell_type": "code",
      "metadata": {
        "colab": {
          "base_uri": "https://localhost:8080/"
        },
        "id": "cxxBhrQ_PnwN",
        "outputId": "f3ae3b3b-efc6-48ee-b990-f0ec73b4453c"
      },
      "source": [
        "type(raw_train_ds)"
      ],
      "execution_count": 11,
      "outputs": [
        {
          "output_type": "execute_result",
          "data": {
            "text/plain": [
              "tensorflow.python.data.ops.dataset_ops.BatchDataset"
            ]
          },
          "metadata": {
            "tags": []
          },
          "execution_count": 11
        }
      ]
    },
    {
      "cell_type": "code",
      "metadata": {
        "colab": {
          "base_uri": "https://localhost:8080/"
        },
        "id": "_j3QiexrPwoV",
        "outputId": "e32cbb00-e7a3-4334-8dee-f4c82d9fdfb1"
      },
      "source": [
        "type(tf.data.Dataset.from_tensor_slices(tf.constant([1,2,3])))"
      ],
      "execution_count": 14,
      "outputs": [
        {
          "output_type": "execute_result",
          "data": {
            "text/plain": [
              "tensorflow.python.data.ops.dataset_ops.TensorSliceDataset"
            ]
          },
          "metadata": {
            "tags": []
          },
          "execution_count": 14
        }
      ]
    },
    {
      "cell_type": "code",
      "metadata": {
        "colab": {
          "base_uri": "https://localhost:8080/"
        },
        "id": "IQk8qSs0P26q",
        "outputId": "6e4ba1fc-4e4c-4563-e0c8-d2fa3b1bd886"
      },
      "source": [
        "# Let's Print out the some of the data\n",
        "for text_batch, label_batch in raw_train_ds.take(1):\n",
        "    for i in range(3):\n",
        "        print(\"Review : \", text_batch.numpy()[i])\n",
        "        print(\"Label : \", label_batch.numpy()[i])\n",
        "    "
      ],
      "execution_count": 89,
      "outputs": [
        {
          "output_type": "stream",
          "text": [
            "Review :  b'This had a great cast with big-name stars like Tyrone Power, Henry Fonda, Randolph Scott, Nancy Kelly, Henry Hull and Brian Donlevey and a bunch more lesser-but-known names with shorter roles. It also had Technicolor, one of the few movies made with it in 1939.<br /><br />Now the bad news.......regrettably, I can\\'t say much positive for the story. It portrayed the James boys in a totally positive light....and Hollywood has done that ever since. Why these criminals are always shown to be the \"good guys\" is beyond me. This film glamorizes them and made their enemies - the railroad people - into vicious human beings. The latter was exaggerated so much it was preposterous. Well, that\\'s the film world for you: evil is good; good is bad.<br /><br />Hey Hollywood: here\\'s a news flash - The James boys were criminals! Really - look it up!'\n",
            "Label :  0\n",
            "Review :  b'Finally, after years of awaiting a new film to continue the sexual mayhem of \"Basic Instinct\", we have been given a great sequel that is packed with the right elements needed for a franchise such as this! I remember everything about the original, the steam, the romance, the sex, the interrogation, the music (by the master Jerry Goldsmith), and everything else from violence and murder, to intense confrontations of all kind! Make no mistake, \"Basic Instinct\" was a real winner for audiences everywhere. I can remember in 2001 when we were first given the news about such a sequel. Five years later, we have it. I never would have thought it to end up such as this. When it was declared a dropped project, time sure couldn\\'t tell if it was ever a real possibility to begin with. Well, I guess we now know anything\\'s possible in this case. Even if the original director, or writer are not present, all we need is the glamorous, always reliable Sharon Stone, and we have a done deal! Please, hear me out...<br /><br />When people say that this film is bad, I think it is only due to the fact that the style is extreme, and slightly dated. I use the word \"dated\" only because we have not seen a certain film of the like in many years, and audiences have become adapted to the pointless, boring storytelling seen in other movies that actually make money, and the only reason they make such big numbers is because those films are family friendly. Who needs hole some and clean? Of course it\\'s a pleasant thing to have, but c\\'mon! Escapism is really seldom these days, and \"Basic Instinct 2\" gives us real fans what we\\'ve been expecting. This film is not an Academy Award winner, nor does it try to be. It simply delivers the die-hard fans what they have been expecting. It\\'s a film for fun. Movies today seem to take themselves way too seriously, but this film is just loose and fun, not taking itself seriously, not too seriously anyway. That said, I shall evaluate the film.<br /><br />The film is a fast-paced film from the first second, as we see Cathernine Tremell in a car, speeding at 110 MPH-and enjoying lustful thrills doing so. Perhaps sex and driving does not mix, because our sexy novelist takes a bad turn and...well, she gets away unharmed, but her studly partner doesn\\'t fare too well. Once again, Tremell is the primary suspect of the accident, and will be put under analyst\\'s and psychiatrists. Dr. Michael Glass (Morrissey) is automatically drawn to to her from the first moment he meets her. Like another criminal investigator before him, he is entranced and seduced, slowly, and surely. His denial of it all begins to crumble around him as she weaves a spell only she has the power to do. Tramell is possibly more dangerous now, than she was before,but like the first one, we\\'ll never really know, will we? Once the seduction is in motion, jealousy, rage, drugs, and a plateful of erotic scenery ensues!<br /><br />This film does not recycle the first one, but rather mentions the previous films incidents briefly from time to time. This is a good thing. It lets us as an audience know that the script has been written to bring the level up a notch or two. Sharon Stone dazzles us again, as though 14 years has not come to pass. Her second run of the deceitful novelist is right on the spot as earlier. Just awesome! David Morrissey is well cast, and manages pretty well. The fact that a non-popular star was chosen, makes his performance all the more enjoyable because we as an audience have no background on him, just what we see him perform. My final thought-8.5 to 9 out of 10. So it\\'s not the first one, nor can it live up to the first ones prize winning place. It can, however, live up to the standards set by the first film, and it does folks! It does.'\n",
            "Label :  1\n",
            "Review :  b'I want so badly to give this piece of GARBAGE a zero, unfortunately, there isn\\'t, so, I had to give it a 1 just to warn you about how stupidly terrible this imposter of a familiar cartoon really is! The characters look like they were drawn by pre-schoolers, no, wait, I\\'ve seen pre-schoolers do better! I prefer \"Misadventures of Flapjack\" to this terrible excuse for a cartoon! I\\'m probably saying what others have said, two words: RIP OFF!! Remember that episode of Dexter\\'s Lab when they raced go-karts down that volcano? yeah, Mister Fellows even cashed in on that idea and failed! They even ripped off Shadow Lugia in that one episode that parodied Pokemon!(he even cashed in on that franchise!) That one character is a cheap rip off of Mandark from Dexter\\'s Lab! Mister Fellows needs to be sued for statutory infringement for this piece of crap!! Everyone has their own opinion, but those of you who like Johnny (RIP-OFF) Test, your\\'e just lying to yourselves. Do yourself a favor, change the channel when this rip off tries to disgrace your screen!'\n",
            "Label :  0\n"
          ],
          "name": "stdout"
        }
      ]
    },
    {
      "cell_type": "code",
      "metadata": {
        "colab": {
          "base_uri": "https://localhost:8080/"
        },
        "id": "rj0Q--H8QRkp",
        "outputId": "32366e97-4e4b-4d1d-c49d-83e6172e306d"
      },
      "source": [
        "# The labels are 0 or 1. To see which of these correspond to positive and negative movie reviews, \n",
        "# you can check the class_names property on the datase\n",
        "print(\"Label 0 corresponds to\", raw_train_ds.class_names[0])\n",
        "print(\"Label 1 corresponds to\", raw_train_ds.class_names[1])"
      ],
      "execution_count": 56,
      "outputs": [
        {
          "output_type": "stream",
          "text": [
            "Label 0 corresponds to neg\n",
            "Label 1 corresponds to pos\n"
          ],
          "name": "stdout"
        }
      ]
    },
    {
      "cell_type": "code",
      "metadata": {
        "colab": {
          "base_uri": "https://localhost:8080/"
        },
        "id": "pv4-Nng5Rc31",
        "outputId": "0b27f7d5-54d5-4949-f60e-9164a021d229"
      },
      "source": [
        "# Now Let's Create the Validataion dataset\n",
        "\n",
        "raw_val_ds = keras.preprocessing.text_dataset_from_directory(\n",
        "    \"/content/aclImdb/train\",\n",
        "    batch_size = batch_size,\n",
        "    validation_split = 0.2,\n",
        "    subset='validation', seed = seed\n",
        ")"
      ],
      "execution_count": 90,
      "outputs": [
        {
          "output_type": "stream",
          "text": [
            "Found 25000 files belonging to 2 classes.\n",
            "Using 5000 files for validation.\n"
          ],
          "name": "stdout"
        }
      ]
    },
    {
      "cell_type": "code",
      "metadata": {
        "colab": {
          "base_uri": "https://localhost:8080/"
        },
        "id": "ZhpyYGBaUYlg",
        "outputId": "700ea1c6-5efa-48a7-eb89-dcb2c3f30e99"
      },
      "source": [
        "# This is our testing dataset\n",
        "raw_test_ds = tf.keras.preprocessing.text_dataset_from_directory(\n",
        "    '/content/aclImdb/test', \n",
        "    batch_size=batch_size)"
      ],
      "execution_count": 91,
      "outputs": [
        {
          "output_type": "stream",
          "text": [
            "Found 25000 files belonging to 2 classes.\n"
          ],
          "name": "stdout"
        }
      ]
    },
    {
      "cell_type": "markdown",
      "metadata": {
        "id": "YCzcQtEOUlp1"
      },
      "source": [
        "### Prepare the dataset for training"
      ]
    },
    {
      "cell_type": "code",
      "metadata": {
        "id": "lqvUXt7dUgDY"
      },
      "source": [
        "# Next, you will standardize, tokenize, and vectorize the data using the helpful preprocessing.TextVectorization layer.\n",
        "\n",
        "def custom_standardization(input_text):\n",
        "    lowercase = tf.strings.lower(input_text)\n",
        "    stripped_html = tf.strings.regex_replace(lowercase, '<br />', ' ')\n",
        "    final_text = tf.strings.regex_replace(stripped_html, '[%s]' % re.escape(string.punctuation), '')\n",
        "    return final_text \n"
      ],
      "execution_count": 92,
      "outputs": []
    },
    {
      "cell_type": "code",
      "metadata": {
        "id": "9FuruGmQUrZC"
      },
      "source": [
        "# Next, you will create a TextVectorization layer. you will use this layer to standardize, tokenize, \n",
        "# and vectorize our data. You set the output_mode to int to create unique integer indices for each token.\n",
        "\n",
        "max_features = 10000\n",
        "sequence_length = 250\n",
        "vectorize_layer = keras.layers.experimental.preprocessing.TextVectorization(\n",
        "        standardize = custom_standardization,\n",
        "        max_tokens = max_features,\n",
        "        output_mode = 'int',\n",
        "        output_sequence_length = sequence_length\n",
        ")\n"
      ],
      "execution_count": 93,
      "outputs": []
    },
    {
      "cell_type": "code",
      "metadata": {
        "id": "r8u7MgSOj5Aw"
      },
      "source": [
        "# Next, you will call adapt to fit the state of the preprocessing layer to the dataset. \n",
        "# This will cause the model to build an index of strings to integers.\n",
        "# Note: it's important to only use your training data when calling adapt (using the test set would leak information).\n",
        "\n",
        "# Make a text-only dataset (without labels), then call adapt\n",
        "train_text = raw_train_ds.map(lambda x, y:x)\n",
        "vectorize_layer.adapt(train_text)"
      ],
      "execution_count": 94,
      "outputs": []
    },
    {
      "cell_type": "code",
      "metadata": {
        "id": "c60xwT9ole9Z"
      },
      "source": [
        "# Let's create a function to see the result of using this layer to preprocess some data.\n",
        "def vectorize_text(text, label):\n",
        "  text = tf.expand_dims(text, -1)\n",
        "  return vectorize_layer(text), label"
      ],
      "execution_count": 95,
      "outputs": []
    },
    {
      "cell_type": "code",
      "metadata": {
        "colab": {
          "base_uri": "https://localhost:8080/"
        },
        "id": "HgnDkLMtncS0",
        "outputId": "92f1f43b-6f43-4f39-a655-e153b3a16c2f"
      },
      "source": [
        "# retrieve a batch (of 32 reviews and labels) from the dataset\n",
        "text_batch, label_batch = next(iter(raw_train_ds))\n",
        "first_review, first_label = text_batch[0], label_batch[0]\n",
        "print(\"Review\", first_review)\n",
        "print(\"Label\", raw_train_ds.class_names[first_label])\n",
        "print(\"Vectorized review\", vectorize_text(first_review, first_label))"
      ],
      "execution_count": 96,
      "outputs": [
        {
          "output_type": "stream",
          "text": [
            "Review tf.Tensor(b'Picture the scene where a bunch of scriptwriters sit around a table and one says \"lets have a black woman approach an unsuspecting member of the public (also black) in the street and ask him if he is black, then walk away\". The other writers fall about laughing hysterically until one suggests they repeat it in every episode. More laughter. Now if you think the premise is funny, and the show contains many such types of situation, you will enjoy this show. For the rest, use your zapper and find something more entertaining like watching paint dry. Those that have written glowing reports of this show should either get out more or be forced to watch television comedies that are really funny. Another example of the humor in the show, a girl tries to get out of paying at a supermarket checkout by trying to hypnotise the cashier. Marginally funny the first time but why repeat it over and over in different shows with different cashiers? I could give other examples but these just might be treated as spoilers, divulging why this comedy just is not funny at all.', shape=(), dtype=string)\n",
            "Label neg\n",
            "Vectorized review (<tf.Tensor: shape=(1, 250), dtype=int64, numpy=\n",
            "array([[ 426,    2,  131,  113,    3,  731,    5,    1,  862,  185,    3,\n",
            "        2669,    4,   28,  535,  595,   25,    3,  328,  250, 1416,   33,\n",
            "        5725, 1627,    5,    2, 1064,   82,  328,    8,    2,  888,    4,\n",
            "         908,   86,   44,   26,    7,  328,   90, 1108,  238,    2,   78,\n",
            "         854,  776,   42, 1088, 7082,  358,   28, 3176,   34, 3098,    9,\n",
            "           8,  168,  372,   50, 2246,  151,   44,   22,  102,    2,  825,\n",
            "           7,  156,    4,    2,  118, 1336,  104,  136, 2088,    5,  889,\n",
            "          22,   77,  348,   11,  118,   16,    2,  345,  349,  123,    1,\n",
            "           4,  161,  140,   50,  434,   38,  146, 2563, 2255,  143,   12,\n",
            "          25,  421, 5107, 6282,    5,   11,  118,  137,  341,   75,   45,\n",
            "          50,   40,   27,  905,    6,  103,  678, 1244,   12,   23,   63,\n",
            "         156,  154,  451,    5,    2,  470,    8,    2,  118,    3,  244,\n",
            "         492,    6,   75,   45,    5, 2695,   31,    3, 9454,    1,   32,\n",
            "         257,    6,    1,    2,    1,    1,  156,    2,   84,   59,   18,\n",
            "         134, 3098,    9,  127,    4,  127,    8,  267,  259,   15,  267,\n",
            "           1,   10,   96,  191,   78, 2657,   18,  129,   41,  234,   27,\n",
            "        1791,   14, 1010,    1,  134,   11,  216,   41,    7,   21,  156,\n",
            "          31,   30,    0,    0,    0,    0,    0,    0,    0,    0,    0,\n",
            "           0,    0,    0,    0,    0,    0,    0,    0,    0,    0,    0,\n",
            "           0,    0,    0,    0,    0,    0,    0,    0,    0,    0,    0,\n",
            "           0,    0,    0,    0,    0,    0,    0,    0,    0,    0,    0,\n",
            "           0,    0,    0,    0,    0,    0,    0,    0,    0,    0,    0,\n",
            "           0,    0,    0,    0,    0,    0,    0,    0]])>, <tf.Tensor: shape=(), dtype=int32, numpy=0>)\n"
          ],
          "name": "stdout"
        }
      ]
    },
    {
      "cell_type": "code",
      "metadata": {
        "colab": {
          "base_uri": "https://localhost:8080/"
        },
        "id": "LG9InfS2ndua",
        "outputId": "7f50cbc9-e955-4338-fd29-e41dd9b74977"
      },
      "source": [
        "# As you can see above, each token has been replaced by an integer. You can lookup the token (string) that each integer corresponds to by calling .get_vocabulary() on the layer.\n",
        "print(\"1287 ---> \", vectorize_layer.get_vocabulary()[1287])\n",
        "print(\"313 ---> \", vectorize_layer.get_vocabulary()[313])\n",
        "print(\"Size of the Vocabulary \", len(vectorize_layer.get_vocabulary()))"
      ],
      "execution_count": 97,
      "outputs": [
        {
          "output_type": "stream",
          "text": [
            "1287 --->  places\n",
            "313 --->  idea\n",
            "Size of the Vocabulary  10000\n"
          ],
          "name": "stdout"
        }
      ]
    },
    {
      "cell_type": "code",
      "metadata": {
        "id": "tWl5IOg66egi"
      },
      "source": [
        "# You are nearly ready to train your model. As a final preprocessing step, you will apply the \n",
        "# TextVectorization layer you created earlier to the train, validation, and test dataset.\n",
        "\n",
        "train_ds = raw_train_ds.map(vectorize_text)\n",
        "val_ds = raw_val_ds.map(vectorize_text)\n",
        "test_ds = raw_train_ds.map(vectorize_text)"
      ],
      "execution_count": 98,
      "outputs": []
    },
    {
      "cell_type": "markdown",
      "metadata": {
        "id": "fqPYW_eJ-B41"
      },
      "source": [
        "### Configure the dataset for performance"
      ]
    },
    {
      "cell_type": "markdown",
      "metadata": {
        "id": "aphpabWz-F9b"
      },
      "source": [
        "These are two important methods you should use when loading data to make sure that I/O does not become blocking.\n",
        "\n",
        ".cache() keeps data in memory after it's loaded off disk. This will ensure the dataset does not become a bottleneck while training your model. If your dataset is too large to fit into memory, you can also use this method to create a performant on-disk cache, which is more efficient to read than many small files.\n",
        "\n",
        ".prefetch() overlaps data preprocessing and model execution while training."
      ]
    },
    {
      "cell_type": "code",
      "metadata": {
        "id": "CvgkAqSp67_a"
      },
      "source": [
        "AUTOTUNE = tf.data.AUTOTUNE\n",
        "\n",
        "train_ds = train_ds.cache().prefetch(buffer_size = AUTOTUNE)\n",
        "val_ds = val_ds.cache().prefetch(buffer_size = AUTOTUNE)\n",
        "test_ds = test_ds.cache().prefetch(buffer_size = AUTOTUNE)"
      ],
      "execution_count": 99,
      "outputs": []
    },
    {
      "cell_type": "markdown",
      "metadata": {
        "id": "nq8luT0S_kEP"
      },
      "source": [
        "### Create the model"
      ]
    },
    {
      "cell_type": "code",
      "metadata": {
        "colab": {
          "base_uri": "https://localhost:8080/"
        },
        "id": "jTnrixdM_haK",
        "outputId": "7d3cbd4b-e78c-403a-8bef-7aca0fa9eea7"
      },
      "source": [
        "embedding_dim = 16\n",
        "\n",
        "model = keras.models.Sequential([\n",
        "        keras.layers.Embedding(max_features + 1, embedding_dim),\n",
        "        keras.layers.Dropout(0.2),\n",
        "        keras.layers.GlobalAveragePooling1D(),\n",
        "        keras.layers.Dropout(0.2),\n",
        "        keras.layers.Dense(1)\n",
        "])\n",
        "model.summary()"
      ],
      "execution_count": 100,
      "outputs": [
        {
          "output_type": "stream",
          "text": [
            "Model: \"sequential_1\"\n",
            "_________________________________________________________________\n",
            "Layer (type)                 Output Shape              Param #   \n",
            "=================================================================\n",
            "embedding_1 (Embedding)      (None, None, 16)          160016    \n",
            "_________________________________________________________________\n",
            "dropout_2 (Dropout)          (None, None, 16)          0         \n",
            "_________________________________________________________________\n",
            "global_average_pooling1d_1 ( (None, 16)                0         \n",
            "_________________________________________________________________\n",
            "dropout_3 (Dropout)          (None, 16)                0         \n",
            "_________________________________________________________________\n",
            "dense_1 (Dense)              (None, 1)                 17        \n",
            "=================================================================\n",
            "Total params: 160,033\n",
            "Trainable params: 160,033\n",
            "Non-trainable params: 0\n",
            "_________________________________________________________________\n"
          ],
          "name": "stdout"
        }
      ]
    },
    {
      "cell_type": "markdown",
      "metadata": {
        "id": "gTHkJU8pA-ub"
      },
      "source": [
        "### Loss function, optimizer and Training"
      ]
    },
    {
      "cell_type": "code",
      "metadata": {
        "id": "0jhL4iRIAdFI"
      },
      "source": [
        "model.compile(loss=keras.losses.BinaryCrossentropy(from_logits=True),\n",
        "              optimizer='adam',\n",
        "              metrics=tf.metrics.BinaryAccuracy(threshold=0.0))"
      ],
      "execution_count": 101,
      "outputs": []
    },
    {
      "cell_type": "code",
      "metadata": {
        "colab": {
          "base_uri": "https://localhost:8080/"
        },
        "id": "QDYv_FzjBDjO",
        "outputId": "377e1211-8444-40bf-8334-8eb04234b5ab"
      },
      "source": [
        "epochs = 10\n",
        "history = model.fit(train_ds, validation_data=val_ds, epochs = epochs)"
      ],
      "execution_count": 102,
      "outputs": [
        {
          "output_type": "stream",
          "text": [
            "Epoch 1/10\n",
            "625/625 [==============================] - 12s 18ms/step - loss: 0.6827 - binary_accuracy: 0.6292 - val_loss: 0.6164 - val_binary_accuracy: 0.7480\n",
            "Epoch 2/10\n",
            "625/625 [==============================] - 4s 7ms/step - loss: 0.5811 - binary_accuracy: 0.7844 - val_loss: 0.5018 - val_binary_accuracy: 0.8094\n",
            "Epoch 3/10\n",
            "625/625 [==============================] - 4s 6ms/step - loss: 0.4657 - binary_accuracy: 0.8337 - val_loss: 0.4243 - val_binary_accuracy: 0.8378\n",
            "Epoch 4/10\n",
            "625/625 [==============================] - 4s 6ms/step - loss: 0.3918 - binary_accuracy: 0.8603 - val_loss: 0.3787 - val_binary_accuracy: 0.8568\n",
            "Epoch 5/10\n",
            "625/625 [==============================] - 4s 7ms/step - loss: 0.3444 - binary_accuracy: 0.8728 - val_loss: 0.3506 - val_binary_accuracy: 0.8624\n",
            "Epoch 6/10\n",
            "625/625 [==============================] - 4s 7ms/step - loss: 0.3119 - binary_accuracy: 0.8851 - val_loss: 0.3322 - val_binary_accuracy: 0.8670\n",
            "Epoch 7/10\n",
            "625/625 [==============================] - 4s 7ms/step - loss: 0.2868 - binary_accuracy: 0.8955 - val_loss: 0.3191 - val_binary_accuracy: 0.8712\n",
            "Epoch 8/10\n",
            "625/625 [==============================] - 4s 7ms/step - loss: 0.2672 - binary_accuracy: 0.9028 - val_loss: 0.3102 - val_binary_accuracy: 0.8726\n",
            "Epoch 9/10\n",
            "625/625 [==============================] - 4s 7ms/step - loss: 0.2501 - binary_accuracy: 0.9093 - val_loss: 0.3042 - val_binary_accuracy: 0.8744\n",
            "Epoch 10/10\n",
            "625/625 [==============================] - 4s 7ms/step - loss: 0.2346 - binary_accuracy: 0.9156 - val_loss: 0.3005 - val_binary_accuracy: 0.8758\n"
          ],
          "name": "stdout"
        }
      ]
    },
    {
      "cell_type": "code",
      "metadata": {
        "colab": {
          "base_uri": "https://localhost:8080/"
        },
        "id": "8AgSJbIxBY53",
        "outputId": "1985cdaa-49df-47c6-f1cd-47bf3114dcef"
      },
      "source": [
        "# Evaluating the Model\n",
        "model.evaluate(test_ds)"
      ],
      "execution_count": 103,
      "outputs": [
        {
          "output_type": "stream",
          "text": [
            "625/625 [==============================] - 8s 12ms/step - loss: 0.2154 - binary_accuracy: 0.9201\n"
          ],
          "name": "stdout"
        },
        {
          "output_type": "execute_result",
          "data": {
            "text/plain": [
              "[0.21543234586715698, 0.9200999736785889]"
            ]
          },
          "metadata": {
            "tags": []
          },
          "execution_count": 103
        }
      ]
    },
    {
      "cell_type": "markdown",
      "metadata": {
        "id": "Gj-VYmEVBwem"
      },
      "source": [
        "### Create a plot of accuracy and loss over time"
      ]
    },
    {
      "cell_type": "code",
      "metadata": {
        "colab": {
          "base_uri": "https://localhost:8080/"
        },
        "id": "ZDL8RGNNBoUz",
        "outputId": "f63e92a7-e8d5-477c-a6b4-81b787d523e0"
      },
      "source": [
        "history_dict = history.history\n",
        "history_dict.keys()"
      ],
      "execution_count": 104,
      "outputs": [
        {
          "output_type": "execute_result",
          "data": {
            "text/plain": [
              "dict_keys(['loss', 'binary_accuracy', 'val_loss', 'val_binary_accuracy'])"
            ]
          },
          "metadata": {
            "tags": []
          },
          "execution_count": 104
        }
      ]
    },
    {
      "cell_type": "code",
      "metadata": {
        "colab": {
          "base_uri": "https://localhost:8080/",
          "height": 295
        },
        "id": "ITJqAklxB87N",
        "outputId": "95f5a81f-4b6f-4879-b0d3-f1190cdd098c"
      },
      "source": [
        "acc = history_dict['binary_accuracy']\n",
        "val_acc = history_dict['val_binary_accuracy']\n",
        "loss = history_dict['loss']\n",
        "val_loss = history_dict['val_loss']\n",
        "\n",
        "epochs = range(1, len(acc)+1)\n",
        "\n",
        "plt.plot(epochs, loss, 'bo', label = 'Training Loss')\n",
        "plt.plot(epochs, val_loss, 'b', label = \"Validation Loss\")\n",
        "plt.title(\"Training and Validation Loss\")\n",
        "plt.xlabel(\"Epochs\")\n",
        "plt.ylabel('Loss')\n",
        "plt.legend()\n",
        "plt.show()"
      ],
      "execution_count": 105,
      "outputs": [
        {
          "output_type": "display_data",
          "data": {
            "image/png": "[encoded data removed]",
            "text/plain": [
              "<Figure size 432x288 with 1 Axes>"
            ]
          },
          "metadata": {
            "tags": [],
            "needs_background": "light"
          }
        }
      ]
    },
    {
      "cell_type": "code",
      "metadata": {
        "colab": {
          "base_uri": "https://localhost:8080/",
          "height": 295
        },
        "id": "vrvuw8upDQUi",
        "outputId": "28cadadc-24c6-4240-f898-79f08036f0f1"
      },
      "source": [
        "plt.plot(epochs, acc, 'bo', label='Training acc')\n",
        "plt.plot(epochs, val_acc, 'b', label='Validation acc')\n",
        "plt.title('Training and validation accuracy')\n",
        "plt.xlabel('Epochs')\n",
        "plt.ylabel('Accuracy')\n",
        "plt.legend(loc='lower right')\n",
        "\n",
        "plt.show()"
      ],
      "execution_count": 106,
      "outputs": [
        {
          "output_type": "display_data",
          "data": {
            "image/png": "[encoded data removed]",
            "text/plain": [
              "<Figure size 432x288 with 1 Axes>"
            ]
          },
          "metadata": {
            "tags": [],
            "needs_background": "light"
          }
        }
      ]
    },
    {
      "cell_type": "markdown",
      "metadata": {
        "id": "U35lBSnnGr-X"
      },
      "source": [
        "### Export the model"
      ]
    },
    {
      "cell_type": "markdown",
      "metadata": {
        "id": "9mM4kDKYGzdz"
      },
      "source": [
        "In the code above, you applied the TextVectorization layer to the dataset before feeding text to the model. If you want to make your model capable of processing raw strings (for example, to simplify deploying it), you can include the TextVectorization layer inside your model. To do so, you can create a new model using the weights you just trained."
      ]
    },
    {
      "cell_type": "code",
      "metadata": {
        "colab": {
          "base_uri": "https://localhost:8080/"
        },
        "id": "uOzuEtgkGO-i",
        "outputId": "7dfd73b7-102b-4598-bed6-6ddaa20a265b"
      },
      "source": [
        "export_model = keras.models.Sequential([\n",
        "                vectorize_layer,\n",
        "                model,\n",
        "                keras.layers.Activation('sigmoid')\n",
        "])\n",
        "\n",
        "export_model.compile( loss = keras.losses.BinaryCrossentropy(from_logits=False),\n",
        "                     metrics = ['accuracy'], optimizer = 'adam')\n",
        "\n",
        "# Test it with `raw_test_ds`, which yields raw strings\n",
        "loss, accuracy = export_model.evaluate(raw_test_ds)\n",
        "print(accuracy, loss)"
      ],
      "execution_count": 107,
      "outputs": [
        {
          "output_type": "stream",
          "text": [
            "782/782 [==============================] - 11s 14ms/step - loss: 0.3071 - accuracy: 0.8753\n",
            "0.8695200085639954 0.3131662607192993\n"
          ],
          "name": "stdout"
        }
      ]
    },
    {
      "cell_type": "markdown",
      "metadata": {
        "id": "syFHIuKiH-_M"
      },
      "source": [
        "### Inference on new data"
      ]
    },
    {
      "cell_type": "code",
      "metadata": {
        "colab": {
          "base_uri": "https://localhost:8080/"
        },
        "id": "QTDaQFqbHzrK",
        "outputId": "a497c6c7-adcd-453e-9574-2892ba1d003a"
      },
      "source": [
        "examples = [\n",
        "  \"The movie was great!\",\n",
        "  \"The movie was okay.\",\n",
        "  \"The movie was terrible...\"\n",
        "]\n",
        "\n",
        "export_model.predict(examples)"
      ],
      "execution_count": 108,
      "outputs": [
        {
          "output_type": "execute_result",
          "data": {
            "text/plain": [
              "array([[0.7364978 ],\n",
              "       [0.57069397],\n",
              "       [0.48971915]], dtype=float32)"
            ]
          },
          "metadata": {
            "tags": []
          },
          "execution_count": 108
        }
      ]
    },
    {
      "cell_type": "code",
      "metadata": {
        "id": "ohKS0dw3IGRS"
      },
      "source": [
        ""
      ],
      "execution_count": null,
      "outputs": []
    }
  ]
}